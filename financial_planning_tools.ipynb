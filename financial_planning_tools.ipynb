{
 "cells": [
  {
   "cell_type": "markdown",
   "metadata": {},
   "source": [
    "# Financial Planning with APIs and Simulations\n",
    "\n",
    "In this Challenge, you’ll create two financial analysis tools by using a single Jupyter notebook:\n",
    "\n",
    "Part 1: A financial planner for emergencies. The members will be able to use this tool to visualize their current savings. The members can then determine if they have enough reserves for an emergency fund.\n",
    "\n",
    "Part 2: A financial planner for retirement. This tool will forecast the performance of their retirement portfolio in 30 years. To do this, the tool will make an Alpaca API call via the Alpaca SDK to get historical price data for use in Monte Carlo simulations.\n",
    "\n",
    "You’ll use the information from the Monte Carlo simulation to answer questions about the portfolio in your Jupyter notebook.\n",
    "\n"
   ]
  },
  {
   "cell_type": "code",
   "execution_count": 1,
   "metadata": {},
   "outputs": [],
   "source": [
    "# Import the required libraries and dependencies\n",
    "import os\n",
    "import requests\n",
    "import json\n",
    "import pandas as pd\n",
    "from dotenv import load_dotenv\n",
    "import alpaca_trade_api as tradeapi\n",
    "from MCForecastTools import MCSimulation\n",
    "\n",
    "%matplotlib inline"
   ]
  },
  {
   "cell_type": "code",
   "execution_count": 2,
   "metadata": {},
   "outputs": [
    {
     "data": {
      "text/plain": [
       "True"
      ]
     },
     "execution_count": 2,
     "metadata": {},
     "output_type": "execute_result"
    }
   ],
   "source": [
    "# Load the environment variables from the .env file\n",
    "#by calling the load_dotenv function\n",
    "load_dotenv()"
   ]
  },
  {
   "cell_type": "markdown",
   "metadata": {},
   "source": [
    "## Part 1: Create a Financial Planner for Emergencies"
   ]
  },
  {
   "cell_type": "markdown",
   "metadata": {},
   "source": [
    "### Evaluate the Cryptocurrency Wallet by Using the Requests Library\n",
    "\n",
    "In this section, you’ll determine the current value of a member’s cryptocurrency wallet. You’ll collect the current prices for the Bitcoin and Ethereum cryptocurrencies by using the Python Requests library. For the prototype, you’ll assume that the member holds the 1.2 Bitcoins (BTC) and 5.3 Ethereum coins (ETH). To do all this, complete the following steps:\n",
    "\n",
    "1. Create a variable named `monthly_income`, and set its value to `12000`.\n",
    "\n",
    "2. Use the Requests library to get the current price (in US dollars) of Bitcoin (BTC) and Ethereum (ETH) by using the API endpoints that the starter code supplies.\n",
    "\n",
    "3. Navigate the JSON response object to access the current price of each coin, and store each in a variable.\n",
    "\n",
    "    > **Hint** Note the specific identifier for each cryptocurrency in the API JSON response. The Bitcoin identifier is `1`, and the Ethereum identifier is `1027`.\n",
    "\n",
    "4. Calculate the value, in US dollars, of the current amount of each cryptocurrency and of the entire cryptocurrency wallet.\n",
    "\n"
   ]
  },
  {
   "cell_type": "code",
   "execution_count": 3,
   "metadata": {},
   "outputs": [],
   "source": [
    "# The current number of coins for each cryptocurrency asset held in the portfolio.\n",
    "btc_coins = 1.2\n",
    "eth_coins = 5.3"
   ]
  },
  {
   "cell_type": "markdown",
   "metadata": {},
   "source": [
    "#### Step 1: Create a variable named `monthly_income`, and set its value to `12000`."
   ]
  },
  {
   "cell_type": "code",
   "execution_count": 4,
   "metadata": {},
   "outputs": [],
   "source": [
    "# The monthly amount for the member's household income\n",
    "monthly_income=12000\n"
   ]
  },
  {
   "cell_type": "markdown",
   "metadata": {},
   "source": [
    "#### Review the endpoint URLs for the API calls to Free Crypto API in order to get the current pricing information for both BTC and ETH."
   ]
  },
  {
   "cell_type": "code",
   "execution_count": 5,
   "metadata": {},
   "outputs": [],
   "source": [
    "# The Free Crypto API Call endpoint URLs for the held cryptocurrency assets\n",
    "btc_url = \"https://api.alternative.me/v2/ticker/Bitcoin/?convert=USD\"\n",
    "eth_url = \"https://api.alternative.me/v2/ticker/Ethereum/?convert=USD\""
   ]
  },
  {
   "cell_type": "markdown",
   "metadata": {},
   "source": [
    "#### Step 2. Use the Requests library to get the current price (in US dollars) of Bitcoin (BTC) and Ethereum (ETH) by using the API endpoints that the starter code supplied."
   ]
  },
  {
   "cell_type": "code",
   "execution_count": 6,
   "metadata": {},
   "outputs": [
    {
     "name": "stdout",
     "output_type": "stream",
     "text": [
      "{\n",
      "    \"data\": {\n",
      "        \"1\": {\n",
      "            \"circulating_supply\": 19256062,\n",
      "            \"id\": 1,\n",
      "            \"last_updated\": 1673186344,\n",
      "            \"max_supply\": 21000000,\n",
      "            \"name\": \"Bitcoin\",\n",
      "            \"quotes\": {\n",
      "                \"USD\": {\n",
      "                    \"market_cap\": 326198873707,\n",
      "                    \"percent_change_1h\": 0.0530079219368073,\n",
      "                    \"percent_change_24h\": 0.0761272502160343,\n",
      "                    \"percent_change_7d\": 2.41416042939353,\n",
      "                    \"percentage_change_1h\": 0.0530079219368073,\n",
      "                    \"percentage_change_24h\": 0.0761272502160343,\n",
      "                    \"percentage_change_7d\": 2.41416042939353,\n",
      "                    \"price\": 16940.01,\n",
      "                    \"volume_24h\": 9131416417\n",
      "                }\n",
      "            },\n",
      "            \"rank\": 1,\n",
      "            \"symbol\": \"BTC\",\n",
      "            \"total_supply\": 19256062,\n",
      "            \"website_slug\": \"bitcoin\"\n",
      "        }\n",
      "    },\n",
      "    \"metadata\": {\n",
      "        \"error\": null,\n",
      "        \"num_cryptocurrencies\": 3119,\n",
      "        \"timestamp\": 1673186344\n",
      "    }\n",
      "}\n"
     ]
    }
   ],
   "source": [
    "# Using the Python requests library, make an API call to access the current price of BTC\n",
    "btc_response = requests.get(btc_url).json()\n",
    "\n",
    "# Use the json.dumps function to review the response data from the API call\n",
    "# Use the indent and sort_keys parameters to make the response object readable\n",
    "print(json.dumps(btc_response,indent=4,sort_keys=True))\n"
   ]
  },
  {
   "cell_type": "code",
   "execution_count": 7,
   "metadata": {},
   "outputs": [
    {
     "name": "stdout",
     "output_type": "stream",
     "text": [
      "{\n",
      "    \"data\": {\n",
      "        \"1027\": {\n",
      "            \"circulating_supply\": 120524635,\n",
      "            \"id\": 1027,\n",
      "            \"last_updated\": 1673186338,\n",
      "            \"max_supply\": 120524635,\n",
      "            \"name\": \"Ethereum\",\n",
      "            \"quotes\": {\n",
      "                \"USD\": {\n",
      "                    \"market_cap\": 152348694815,\n",
      "                    \"percent_change_1h\": 0.0978737456769804,\n",
      "                    \"percent_change_24h\": -0.0074027695671696,\n",
      "                    \"percent_change_7d\": 5.61611604202774,\n",
      "                    \"percentage_change_1h\": 0.0978737456769804,\n",
      "                    \"percentage_change_24h\": -0.0074027695671696,\n",
      "                    \"percentage_change_7d\": 5.61611604202774,\n",
      "                    \"price\": 1263.82,\n",
      "                    \"volume_24h\": 2321520763\n",
      "                }\n",
      "            },\n",
      "            \"rank\": 2,\n",
      "            \"symbol\": \"ETH\",\n",
      "            \"total_supply\": 120524635,\n",
      "            \"website_slug\": \"ethereum\"\n",
      "        }\n",
      "    },\n",
      "    \"metadata\": {\n",
      "        \"error\": null,\n",
      "        \"num_cryptocurrencies\": 3119,\n",
      "        \"timestamp\": 1673186338\n",
      "    }\n",
      "}\n"
     ]
    }
   ],
   "source": [
    "# Using the Python requests library, make an API call to access the current price ETH\n",
    "eth_response = requests.get(eth_url).json()\n",
    "\n",
    "# Use the json.dumps function to review the response data from the API call\n",
    "# Use the indent and sort_keys parameters to make the response object readable\n",
    "print(json.dumps(eth_response,indent=4,sort_keys=True))\n"
   ]
  },
  {
   "cell_type": "markdown",
   "metadata": {},
   "source": [
    "#### Step 3: Navigate the JSON response object to access the current price of each coin, and store each in a variable."
   ]
  },
  {
   "cell_type": "code",
   "execution_count": 8,
   "metadata": {},
   "outputs": [
    {
     "data": {
      "text/plain": [
       "16940.01"
      ]
     },
     "execution_count": 8,
     "metadata": {},
     "output_type": "execute_result"
    }
   ],
   "source": [
    "# Navigate the BTC response object to access the current price of BTC\n",
    "btc_price = btc_response[\"data\"][\"1\"][\"quotes\"][\"USD\"][\"price\"]\n",
    "\n",
    "# Print the current price of BTC\n",
    "btc_price\n"
   ]
  },
  {
   "cell_type": "code",
   "execution_count": 9,
   "metadata": {},
   "outputs": [
    {
     "data": {
      "text/plain": [
       "1263.82"
      ]
     },
     "execution_count": 9,
     "metadata": {},
     "output_type": "execute_result"
    }
   ],
   "source": [
    "# Navigate the BTC response object to access the current price of ETH\n",
    "eth_price = eth_response[\"data\"][\"1027\"][\"quotes\"][\"USD\"][\"price\"]\n",
    "\n",
    "# Print the current price of ETH\n",
    "eth_price\n"
   ]
  },
  {
   "cell_type": "markdown",
   "metadata": {},
   "source": [
    "### Step 4: Calculate the value, in US dollars, of the current amount of each cryptocurrency and of the entire cryptocurrency wallet."
   ]
  },
  {
   "cell_type": "code",
   "execution_count": 10,
   "metadata": {},
   "outputs": [
    {
     "data": {
      "text/plain": [
       "20328.012"
      ]
     },
     "execution_count": 10,
     "metadata": {},
     "output_type": "execute_result"
    }
   ],
   "source": [
    "# Compute the current value of the BTC holding \n",
    "btc_value = btc_coins*btc_price\n",
    "\n",
    "# Print current value of your holding in BTC\n",
    "btc_value\n"
   ]
  },
  {
   "cell_type": "code",
   "execution_count": 11,
   "metadata": {},
   "outputs": [
    {
     "data": {
      "text/plain": [
       "6698.245999999999"
      ]
     },
     "execution_count": 11,
     "metadata": {},
     "output_type": "execute_result"
    }
   ],
   "source": [
    "# Compute the current value of the ETH holding \n",
    "eth_value = eth_coins*eth_price\n",
    "\n",
    "# Print current value of your holding in ETH\n",
    "eth_value\n"
   ]
  },
  {
   "cell_type": "code",
   "execution_count": 12,
   "metadata": {},
   "outputs": [
    {
     "data": {
      "text/plain": [
       "27026.257999999998"
      ]
     },
     "execution_count": 12,
     "metadata": {},
     "output_type": "execute_result"
    }
   ],
   "source": [
    "# Compute the total value of the cryptocurrency wallet\n",
    "# Add the value of the BTC holding to the value of the ETH holding\n",
    "total_crypto_wallet = btc_value + eth_value\n",
    "\n",
    "# Print current cryptocurrency wallet balance\n",
    "total_crypto_wallet\n"
   ]
  },
  {
   "cell_type": "markdown",
   "metadata": {},
   "source": [
    "### Evaluate the Stock and Bond Holdings by Using the Alpaca SDK\n",
    "\n",
    "In this section, you’ll determine the current value of a member’s stock and bond holdings. You’ll make an API call to Alpaca via the Alpaca SDK to get the current closing prices of the SPDR S&P 500 ETF Trust (ticker: SPY) and of the iShares Core US Aggregate Bond ETF (ticker: AGG). For the prototype, assume that the member holds 110 shares of SPY, which represents the stock portion of their portfolio, and 200 shares of AGG, which represents the bond portion. To do all this, complete the following steps:\n",
    "\n",
    "1. In the `Starter_Code` folder, create an environment file (`.env`) to store the values of your Alpaca API key and Alpaca secret key.\n",
    "\n",
    "2. Set the variables for the Alpaca API and secret keys. Using the Alpaca SDK, create the Alpaca `tradeapi.REST` object. In this object, include the parameters for the Alpaca API key, the secret key, and the version number.\n",
    "\n",
    "3. Set the following parameters for the Alpaca API call:\n",
    "\n",
    "    - `tickers`: Use the tickers for the member’s stock and bond holdings.\n",
    "\n",
    "    - `timeframe`: Use a time frame of one day.\n",
    "\n",
    "    - `start_date` and `end_date`: Use the same date for these parameters, and format them with the date of the previous weekday (or `2020-08-07`). This is because you want the one closing price for the most-recent trading day.\n",
    "\n",
    "4. Get the current closing prices for `SPY` and `AGG` by using the Alpaca `get_bars` function. Format the response as a Pandas DataFrame by including the `df` property at the end of the `get_bars` function.\n",
    "\n",
    "5. Navigating the Alpaca response DataFrame, select the `SPY` and `AGG` closing prices, and store them as variables.\n",
    "\n",
    "6. Calculate the value, in US dollars, of the current amount of shares in each of the stock and bond portions of the portfolio, and print the results.\n"
   ]
  },
  {
   "cell_type": "markdown",
   "metadata": {},
   "source": [
    "#### Review the total number of shares held in both (SPY) and (AGG)."
   ]
  },
  {
   "cell_type": "code",
   "execution_count": 13,
   "metadata": {},
   "outputs": [],
   "source": [
    "# Current amount of shares held in both the stock (SPY) and bond (AGG) portion of the portfolio.\n",
    "spy_shares = 110\n",
    "agg_shares = 200\n"
   ]
  },
  {
   "cell_type": "markdown",
   "metadata": {},
   "source": [
    "#### Step 1: In the `Starter_Code` folder, create an environment file (`.env`) to store the values of your Alpaca API key and Alpaca secret key."
   ]
  },
  {
   "cell_type": "markdown",
   "metadata": {},
   "source": [
    "#### Step 2: Set the variables for the Alpaca API and secret keys. Using the Alpaca SDK, create the Alpaca `tradeapi.REST` object. In this object, include the parameters for the Alpaca API key, the secret key, and the version number."
   ]
  },
  {
   "cell_type": "code",
   "execution_count": 14,
   "metadata": {},
   "outputs": [
    {
     "data": {
      "text/plain": [
       "<alpaca_trade_api.rest.REST at 0x1493f8f9548>"
      ]
     },
     "execution_count": 14,
     "metadata": {},
     "output_type": "execute_result"
    }
   ],
   "source": [
    "# Set the variables for the Alpaca API and secret keys\n",
    "alpaca_api_key=os.getenv(\"ALPACA_API_KEY\")\n",
    "alpaca_secret_key=os.getenv(\"ALPACA_SECRET_KEY\")\n",
    "\n",
    "# Create the Alpaca tradeapi.REST object\n",
    "alpaca=tradeapi.REST(alpaca_api_key,alpaca_secret_key,api_version=\"v2\")\n",
    "\n",
    "alpaca"
   ]
  },
  {
   "cell_type": "markdown",
   "metadata": {},
   "source": [
    "#### Step 3: Set the following parameters for the Alpaca API call:\n",
    "\n",
    "- `tickers`: Use the tickers for the member’s stock and bond holdings.\n",
    "\n",
    "- `timeframe`: Use a time frame of one day.\n",
    "\n",
    "- `start_date` and `end_date`: Use the same date for these parameters, and format them with the date of the previous weekday (or `2020-08-07`). This is because you want the one closing price for the most-recent trading day.\n"
   ]
  },
  {
   "cell_type": "code",
   "execution_count": 15,
   "metadata": {},
   "outputs": [
    {
     "name": "stdout",
     "output_type": "stream",
     "text": [
      "2023-01-06T00:00:00-05:00 2023-01-06T00:00:00-05:00\n"
     ]
    }
   ],
   "source": [
    "# Set the tickers for both the bond and stock portion of the portfolio\n",
    "tickers=['SPY','AGG']\n",
    "\n",
    "# Set timeframe to 1Day\n",
    "timeframe='1Day'\n",
    "\n",
    "# Format current date as ISO format\n",
    "# Set both the start and end date at the date of your prior weekday \n",
    "# This will give you the closing price of the previous trading day\n",
    "# Alternatively you can use a start and end date of 2020-08-07\n",
    "start_date=pd.Timestamp(\"2023-01-06\",tz=\"America/New_York\").isoformat()\n",
    "end_date=pd.Timestamp(\"2023-01-06\",tz=\"America/New_York\").isoformat()\n",
    "\n",
    "print(start_date,end_date)\n"
   ]
  },
  {
   "cell_type": "markdown",
   "metadata": {},
   "source": [
    "#### Step 4: Get the current closing prices for `SPY` and `AGG` by using the Alpaca `get_bars` function. Format the response as a Pandas DataFrame by including the `df` property at the end of the `get_bars` function."
   ]
  },
  {
   "cell_type": "code",
   "execution_count": 23,
   "metadata": {},
   "outputs": [
    {
     "data": {
      "text/html": [
       "<div>\n",
       "<style scoped>\n",
       "    .dataframe tbody tr th:only-of-type {\n",
       "        vertical-align: middle;\n",
       "    }\n",
       "\n",
       "    .dataframe tbody tr th {\n",
       "        vertical-align: top;\n",
       "    }\n",
       "\n",
       "    .dataframe thead th {\n",
       "        text-align: right;\n",
       "    }\n",
       "</style>\n",
       "<table border=\"1\" class=\"dataframe\">\n",
       "  <thead>\n",
       "    <tr style=\"text-align: right;\">\n",
       "      <th></th>\n",
       "      <th>open</th>\n",
       "      <th>high</th>\n",
       "      <th>low</th>\n",
       "      <th>close</th>\n",
       "      <th>volume</th>\n",
       "      <th>trade_count</th>\n",
       "      <th>vwap</th>\n",
       "      <th>symbol</th>\n",
       "    </tr>\n",
       "    <tr>\n",
       "      <th>timestamp</th>\n",
       "      <th></th>\n",
       "      <th></th>\n",
       "      <th></th>\n",
       "      <th></th>\n",
       "      <th></th>\n",
       "      <th></th>\n",
       "      <th></th>\n",
       "      <th></th>\n",
       "    </tr>\n",
       "  </thead>\n",
       "  <tbody>\n",
       "    <tr>\n",
       "      <th>2023-01-06 05:00:00+00:00</th>\n",
       "      <td>98.13</td>\n",
       "      <td>99.15</td>\n",
       "      <td>98.0400</td>\n",
       "      <td>99.09</td>\n",
       "      <td>8484694</td>\n",
       "      <td>28134</td>\n",
       "      <td>98.849728</td>\n",
       "      <td>AGG</td>\n",
       "    </tr>\n",
       "    <tr>\n",
       "      <th>2023-01-06 05:00:00+00:00</th>\n",
       "      <td>382.61</td>\n",
       "      <td>389.25</td>\n",
       "      <td>379.4127</td>\n",
       "      <td>388.08</td>\n",
       "      <td>103741286</td>\n",
       "      <td>683816</td>\n",
       "      <td>385.248218</td>\n",
       "      <td>SPY</td>\n",
       "    </tr>\n",
       "  </tbody>\n",
       "</table>\n",
       "</div>"
      ],
      "text/plain": [
       "                             open    high       low   close     volume  \\\n",
       "timestamp                                                                \n",
       "2023-01-06 05:00:00+00:00   98.13   99.15   98.0400   99.09    8484694   \n",
       "2023-01-06 05:00:00+00:00  382.61  389.25  379.4127  388.08  103741286   \n",
       "\n",
       "                           trade_count        vwap symbol  \n",
       "timestamp                                                  \n",
       "2023-01-06 05:00:00+00:00        28134   98.849728    AGG  \n",
       "2023-01-06 05:00:00+00:00       683816  385.248218    SPY  "
      ]
     },
     "metadata": {},
     "output_type": "display_data"
    },
    {
     "data": {
      "text/html": [
       "<div>\n",
       "<style scoped>\n",
       "    .dataframe tbody tr th:only-of-type {\n",
       "        vertical-align: middle;\n",
       "    }\n",
       "\n",
       "    .dataframe tbody tr th {\n",
       "        vertical-align: top;\n",
       "    }\n",
       "\n",
       "    .dataframe thead tr th {\n",
       "        text-align: left;\n",
       "    }\n",
       "</style>\n",
       "<table border=\"1\" class=\"dataframe\">\n",
       "  <thead>\n",
       "    <tr>\n",
       "      <th></th>\n",
       "      <th colspan=\"7\" halign=\"left\">AGG</th>\n",
       "      <th colspan=\"7\" halign=\"left\">SPY</th>\n",
       "    </tr>\n",
       "    <tr>\n",
       "      <th></th>\n",
       "      <th>open</th>\n",
       "      <th>high</th>\n",
       "      <th>low</th>\n",
       "      <th>close</th>\n",
       "      <th>volume</th>\n",
       "      <th>trade_count</th>\n",
       "      <th>vwap</th>\n",
       "      <th>open</th>\n",
       "      <th>high</th>\n",
       "      <th>low</th>\n",
       "      <th>close</th>\n",
       "      <th>volume</th>\n",
       "      <th>trade_count</th>\n",
       "      <th>vwap</th>\n",
       "    </tr>\n",
       "  </thead>\n",
       "  <tbody>\n",
       "    <tr>\n",
       "      <th>2023-01-06</th>\n",
       "      <td>98.13</td>\n",
       "      <td>99.15</td>\n",
       "      <td>98.04</td>\n",
       "      <td>99.09</td>\n",
       "      <td>8484694</td>\n",
       "      <td>28134</td>\n",
       "      <td>98.849728</td>\n",
       "      <td>382.61</td>\n",
       "      <td>389.25</td>\n",
       "      <td>379.4127</td>\n",
       "      <td>388.08</td>\n",
       "      <td>103741286</td>\n",
       "      <td>683816</td>\n",
       "      <td>385.248218</td>\n",
       "    </tr>\n",
       "  </tbody>\n",
       "</table>\n",
       "</div>"
      ],
      "text/plain": [
       "              AGG                                                       \\\n",
       "             open   high    low  close   volume trade_count       vwap   \n",
       "2023-01-06  98.13  99.15  98.04  99.09  8484694       28134  98.849728   \n",
       "\n",
       "               SPY                                                   \\\n",
       "              open    high       low   close     volume trade_count   \n",
       "2023-01-06  382.61  389.25  379.4127  388.08  103741286      683816   \n",
       "\n",
       "                        \n",
       "                  vwap  \n",
       "2023-01-06  385.248218  "
      ]
     },
     "metadata": {},
     "output_type": "display_data"
    }
   ],
   "source": [
    "# Use the Alpaca get_bars function to get current closing prices the portfolio\n",
    "# Be sure to set the `df` property after the function to format the response object as a DataFrame\n",
    "response=alpaca.get_bars(tickers, timeframe,start=start_date, end=end_date).df\n",
    "\n",
    "display(response)\n",
    "# Reorganize the DataFrame\n",
    "# Separate ticker data\n",
    "AGG=response[response['symbol']=='AGG'].drop('symbol',axis=1)\n",
    "SPY=response[response['symbol']=='SPY'].drop('symbol',axis=1)\n",
    "\n",
    "# display(AGG)\n",
    "# display(SPY)\n",
    "# Concatenate the ticker DataFrames\n",
    "prices_df=pd.concat([AGG,SPY],axis=1,keys=['AGG','SPY'])\n",
    "\n",
    "# Drop the time component of the date\n",
    "prices_df.index=prices_df.index.date\n",
    "\n",
    "# Review the first 5 rows of the Alpaca DataFrame\n",
    "display(prices_df.head())\n",
    "# display(prices_df.info())\n"
   ]
  },
  {
   "cell_type": "markdown",
   "metadata": {},
   "source": [
    "#### Step 5: Navigating the Alpaca response DataFrame, select the `SPY` and `AGG` closing prices, and store them as variables."
   ]
  },
  {
   "cell_type": "code",
   "execution_count": 91,
   "metadata": {},
   "outputs": [
    {
     "name": "stdout",
     "output_type": "stream",
     "text": [
      "99.09\n"
     ]
    }
   ],
   "source": [
    "# Access the closing price for AGG from the Alpaca DataFrame\n",
    "# Converting the value to a floating point number\n",
    "agg_close_price = prices_df['AGG']['close'][0]\n",
    "\n",
    "# Print the AGG closing price\n",
    "print(agg_close_price)\n"
   ]
  },
  {
   "cell_type": "code",
   "execution_count": 33,
   "metadata": {},
   "outputs": [
    {
     "name": "stdout",
     "output_type": "stream",
     "text": [
      "388.08\n"
     ]
    }
   ],
   "source": [
    "# Access the closing price for SPY from the Alpaca DataFrame\n",
    "# Converting the value to a floating point number\n",
    "spy_close_price = prices_df['SPY']['close'][0]\n",
    "\n",
    "# Print the SPY closing price\n",
    "print(spy_close_price)\n"
   ]
  },
  {
   "cell_type": "markdown",
   "metadata": {},
   "source": [
    "#### Step 6: Calculate the value, in US dollars, of the current amount of shares in each of the stock and bond portions of the portfolio, and print the results."
   ]
  },
  {
   "cell_type": "code",
   "execution_count": 35,
   "metadata": {},
   "outputs": [
    {
     "name": "stdout",
     "output_type": "stream",
     "text": [
      "19818.0\n"
     ]
    }
   ],
   "source": [
    "# Calculate the current value of the bond portion of the portfolio\n",
    "agg_value = agg_close_price*agg_shares\n",
    "\n",
    "# Print the current value of the bond portfolio\n",
    "print(agg_value)\n"
   ]
  },
  {
   "cell_type": "code",
   "execution_count": 36,
   "metadata": {},
   "outputs": [
    {
     "name": "stdout",
     "output_type": "stream",
     "text": [
      "42688.799999999996\n"
     ]
    }
   ],
   "source": [
    "# Calculate the current value of the stock portion of the portfolio\n",
    "spy_value = spy_close_price*spy_shares\n",
    "\n",
    "# Print the current value of the stock portfolio\n",
    "print(spy_value)\n"
   ]
  },
  {
   "cell_type": "code",
   "execution_count": 37,
   "metadata": {},
   "outputs": [
    {
     "data": {
      "text/plain": [
       "62506.799999999996"
      ]
     },
     "execution_count": 37,
     "metadata": {},
     "output_type": "execute_result"
    }
   ],
   "source": [
    "# Calculate the total value of the stock and bond portion of the portfolio\n",
    "total_stocks_bonds = agg_value + spy_value\n",
    "\n",
    "# Print the current balance of the stock and bond portion of the portfolio\n",
    "total_stocks_bonds\n"
   ]
  },
  {
   "cell_type": "code",
   "execution_count": 38,
   "metadata": {},
   "outputs": [
    {
     "name": "stdout",
     "output_type": "stream",
     "text": [
      "89533.05799999999\n"
     ]
    }
   ],
   "source": [
    "# Calculate the total value of the member's entire savings portfolio\n",
    "# Add the value of the cryptocurrency walled to the value of the total stocks and bonds\n",
    "total_portfolio = total_crypto_wallet+total_stocks_bonds\n",
    "\n",
    "# Print current cryptocurrency wallet balance\n",
    "print(total_portfolio)\n"
   ]
  },
  {
   "cell_type": "markdown",
   "metadata": {},
   "source": [
    "### Evaluate the Emergency Fund\n",
    "\n",
    "In this section, you’ll use the valuations for the cryptocurrency wallet and for the stock and bond portions of the portfolio to determine if the credit union member has enough savings to build an emergency fund into their financial plan. To do this, complete the following steps:\n",
    "\n",
    "1. Create a Python list named `savings_data` that has two elements. The first element contains the total value of the cryptocurrency wallet. The second element contains the total value of the stock and bond portions of the portfolio.\n",
    "\n",
    "2. Use the `savings_data` list to create a Pandas DataFrame named `savings_df`, and then display this DataFrame. The function to create the DataFrame should take the following three parameters:\n",
    "\n",
    "    - `savings_data`: Use the list that you just created.\n",
    "\n",
    "    - `columns`: Set this parameter equal to a Python list with a single value called `amount`.\n",
    "\n",
    "    - `index`: Set this parameter equal to a Python list with the values of `crypto` and `stock/bond`.\n",
    "\n",
    "3. Use the `savings_df` DataFrame to plot a pie chart that visualizes the composition of the member’s portfolio. The y-axis of the pie chart uses `amount`. Be sure to add a title.\n",
    "\n",
    "4. Using Python, determine if the current portfolio has enough to create an emergency fund as part of the member’s financial plan. Ideally, an emergency fund should equal to three times the member’s monthly income. To do this, implement the following steps:\n",
    "\n",
    "    1. Create a variable named `emergency_fund_value`, and set it equal to three times the value of the member’s `monthly_income` of $12000. (You set this earlier in Part 1).\n",
    "\n",
    "    2. Create a series of three if statements to determine if the member’s total portfolio is large enough to fund the emergency portfolio:\n",
    "\n",
    "        1. If the total portfolio value is greater than the emergency fund value, display a message congratulating the member for having enough money in this fund.\n",
    "\n",
    "        2. Else if the total portfolio value is equal to the emergency fund value, display a message congratulating the member on reaching this important financial goal.\n",
    "\n",
    "        3. Else the total portfolio is less than the emergency fund value, so display a message showing how many dollars away the member is from reaching the goal. (Subtract the total portfolio value from the emergency fund value.)\n"
   ]
  },
  {
   "cell_type": "markdown",
   "metadata": {},
   "source": [
    "#### Step 1: Create a Python list named `savings_data` that has two elements. The first element contains the total value of the cryptocurrency wallet. The second element contains the total value of the stock and bond portions of the portfolio."
   ]
  },
  {
   "cell_type": "code",
   "execution_count": 40,
   "metadata": {},
   "outputs": [
    {
     "data": {
      "text/plain": [
       "[27026.257999999998, 62506.799999999996]"
      ]
     },
     "metadata": {},
     "output_type": "display_data"
    }
   ],
   "source": [
    "# Consolidate financial assets data into a Python list\n",
    "# type(total_stocks_bonds)\n",
    "\n",
    "savings_data=[total_crypto_wallet,total_stocks_bonds]\n",
    "\n",
    "# for items in savings_data:\n",
    "#     print(type(items))\n",
    "\n",
    "# Review the Python list savings_data\n",
    "display(savings_data)\n",
    "\n",
    "# sum(savings_data)"
   ]
  },
  {
   "cell_type": "markdown",
   "metadata": {},
   "source": [
    "#### Step 2: Use the `savings_data` list to create a Pandas DataFrame named `savings_df`, and then display this DataFrame. The function to create the DataFrame should take the following three parameters:\n",
    "\n",
    "- `savings_data`: Use the list that you just created.\n",
    "\n",
    "- `columns`: Set this parameter equal to a Python list with a single value called `amount`.\n",
    "\n",
    "- `index`: Set this parameter equal to a Python list with the values of `crypto` and `stock/bond`.\n"
   ]
  },
  {
   "cell_type": "code",
   "execution_count": 41,
   "metadata": {},
   "outputs": [
    {
     "data": {
      "text/html": [
       "<div>\n",
       "<style scoped>\n",
       "    .dataframe tbody tr th:only-of-type {\n",
       "        vertical-align: middle;\n",
       "    }\n",
       "\n",
       "    .dataframe tbody tr th {\n",
       "        vertical-align: top;\n",
       "    }\n",
       "\n",
       "    .dataframe thead th {\n",
       "        text-align: right;\n",
       "    }\n",
       "</style>\n",
       "<table border=\"1\" class=\"dataframe\">\n",
       "  <thead>\n",
       "    <tr style=\"text-align: right;\">\n",
       "      <th></th>\n",
       "      <th>amount</th>\n",
       "    </tr>\n",
       "    <tr>\n",
       "      <th>keys</th>\n",
       "      <th></th>\n",
       "    </tr>\n",
       "  </thead>\n",
       "  <tbody>\n",
       "    <tr>\n",
       "      <th>crypto</th>\n",
       "      <td>27026.258</td>\n",
       "    </tr>\n",
       "    <tr>\n",
       "      <th>stock/bond</th>\n",
       "      <td>62506.800</td>\n",
       "    </tr>\n",
       "  </tbody>\n",
       "</table>\n",
       "</div>"
      ],
      "text/plain": [
       "               amount\n",
       "keys                 \n",
       "crypto      27026.258\n",
       "stock/bond  62506.800"
      ]
     },
     "execution_count": 41,
     "metadata": {},
     "output_type": "execute_result"
    }
   ],
   "source": [
    "# Create a Pandas DataFrame called savings_df \n",
    "savings_df=pd.DataFrame(savings_data)\n",
    "\n",
    "savings_df.columns=[\"amount\"]\n",
    "\n",
    "savings_df[\"keys\"]=['crypto','stock/bond']\n",
    "\n",
    "savings_df=savings_df.set_index(\"keys\")\n",
    "\n",
    "savings_df"
   ]
  },
  {
   "cell_type": "markdown",
   "metadata": {},
   "source": [
    "#### Step 3: Use the `savings_df` DataFrame to plot a pie chart that visualizes the composition of the member’s portfolio. The y-axis of the pie chart uses `amount`. Be sure to add a title."
   ]
  },
  {
   "cell_type": "code",
   "execution_count": 42,
   "metadata": {},
   "outputs": [
    {
     "data": {
      "text/plain": [
       "<AxesSubplot:ylabel='amount'>"
      ]
     },
     "execution_count": 42,
     "metadata": {},
     "output_type": "execute_result"
    },
    {
     "data": {
      "image/png": "[encoded data removed]",
      "text/plain": [
       "<Figure size 1000x500 with 1 Axes>"
      ]
     },
     "metadata": {},
     "output_type": "display_data"
    }
   ],
   "source": [
    "# Plot the total value of the member's portfolio (crypto and stock/bond) in a pie chart\n",
    "savings_df.plot(kind='pie',figsize=(10,5),y=\"amount\")\n"
   ]
  },
  {
   "cell_type": "markdown",
   "metadata": {},
   "source": [
    "#### Step 4: Using Python, determine if the current portfolio has enough to create an emergency fund as part of the member’s financial plan. Ideally, an emergency fund should equal to three times the member’s monthly income. To do this, implement the following steps:\n",
    "\n",
    "Step 1. Create a variable named `emergency_fund_value`, and set it equal to three times the value of the member’s `monthly_income` of 12000. (You set this earlier in Part 1).\n",
    "\n",
    "Step 2. Create a series of three if statements to determine if the member’s total portfolio is large enough to fund the emergency portfolio:\n",
    "\n",
    "* If the total portfolio value is greater than the emergency fund value, display a message congratulating the member for having enough money in this fund.\n",
    "\n",
    "* Else if the total portfolio value is equal to the emergency fund value, display a message congratulating the member on reaching this important financial goal.\n",
    "\n",
    "* Else the total portfolio is less than the emergency fund value, so display a message showing how many dollars away the member is from reaching the goal. (Subtract the total portfolio value from the emergency fund value.)\n"
   ]
  },
  {
   "cell_type": "markdown",
   "metadata": {},
   "source": [
    "##### Step 4-1: Create a variable named `emergency_fund_value`, and set it equal to three times the value of the member’s `monthly_income` of 12000. (You set this earlier in Part 1)."
   ]
  },
  {
   "cell_type": "code",
   "execution_count": 46,
   "metadata": {},
   "outputs": [
    {
     "data": {
      "text/plain": [
       "89533.05799999999"
      ]
     },
     "metadata": {},
     "output_type": "display_data"
    }
   ],
   "source": [
    "# Create a variable named emergency_fund_value\n",
    "emergency_fund_value=12000*3\n",
    "# display(emergency_fund_value)\n",
    "\n",
    "savings_total=savings_df.sum()\n",
    "\n",
    "display(savings_total[0])"
   ]
  },
  {
   "cell_type": "markdown",
   "metadata": {},
   "source": [
    "##### Step 4-2: Create a series of three if statements to determine if the member’s total portfolio is large enough to fund the emergency portfolio:\n",
    "\n",
    "* If the total portfolio value is greater than the emergency fund value, display a message congratulating the member for having enough money in this fund.\n",
    "\n",
    "* Else if the total portfolio value is equal to the emergency fund value, display a message congratulating the member on reaching this important financial goal.\n",
    "\n",
    "* Else the total portfolio is less than the emergency fund value, so display a message showing how many dollars away the member is from reaching the goal. (Subtract the total portfolio value from the emergency fund value.)"
   ]
  },
  {
   "cell_type": "code",
   "execution_count": 47,
   "metadata": {},
   "outputs": [
    {
     "name": "stdout",
     "output_type": "stream",
     "text": [
      "Congratulations! The fund has sufficient value to cover emergency fund needs.\n"
     ]
    }
   ],
   "source": [
    "# Evaluate the possibility of creating an emergency fund with 3 conditions:\n",
    "if savings_total[0]>emergency_fund_value:\n",
    "    print(f'Congratulations! The fund has sufficient value to cover emergency fund needs.')\n",
    "elif savings_total[0]==emergency_fund_value:\n",
    "    print(f'Congratulations! The fund currently meets emergency fund goals.')\n",
    "else:\n",
    "    print(f'You need {(emergency_fund_value-savings_total[0]):.0f} to meet the emergency fund goals.')\n"
   ]
  },
  {
   "cell_type": "markdown",
   "metadata": {},
   "source": [
    "## Part 2: Create a Financial Planner for Retirement"
   ]
  },
  {
   "cell_type": "markdown",
   "metadata": {},
   "source": [
    "### Create the Monte Carlo Simulation\n",
    "\n",
    "In this section, you’ll use the MCForecastTools library to create a Monte Carlo simulation for the member’s savings portfolio. To do this, complete the following steps:\n",
    "\n",
    "1. Make an API call via the Alpaca SDK to get 3 years of historical closing prices for a traditional 60/40 portfolio split: 60% stocks (SPY) and 40% bonds (AGG).\n",
    "\n",
    "2. Run a Monte Carlo simulation of 500 samples and 30 years for the 60/40 portfolio, and then plot the results.The following image shows the overlay line plot resulting from a simulation with these characteristics. However, because a random number generator is used to run each live Monte Carlo simulation, your image will differ slightly from this exact image:\n",
    "\n",
    "![A screenshot depicts the resulting plot.](Images/5-4-monte-carlo-line-plot.png)\n",
    "\n",
    "3. Plot the probability distribution of the Monte Carlo simulation. Plot the probability distribution of the Monte Carlo simulation. The following image shows the histogram plot resulting from a simulation with these characteristics. However, because a random number generator is used to run each live Monte Carlo simulation, your image will differ slightly from this exact image:\n",
    "\n",
    "![A screenshot depicts the histogram plot.](Images/5-4-monte-carlo-histogram.png)\n",
    "\n",
    "4. Generate the summary statistics for the Monte Carlo simulation.\n",
    "\n"
   ]
  },
  {
   "cell_type": "markdown",
   "metadata": {},
   "source": [
    "#### Step 1: Make an API call via the Alpaca SDK to get 3 years of historical closing prices for a traditional 60/40 portfolio split: 60% stocks (SPY) and 40% bonds (AGG)."
   ]
  },
  {
   "cell_type": "code",
   "execution_count": 48,
   "metadata": {},
   "outputs": [],
   "source": [
    "# Set start and end dates of 3 years back from your current date\n",
    "# Alternatively, you can use an end date of 2020-08-07 and work 3 years back from that date \n",
    "start_date=pd.Timestamp(\"2020-01-06\",tz=\"America/New_York\").isoformat()\n",
    "end_date=pd.Timestamp(\"2023-01-06\",tz=\"America/New_York\").isoformat()\n",
    "\n",
    "tickers=['AGG','SPY']\n",
    "timeframe='1Day'"
   ]
  },
  {
   "cell_type": "code",
   "execution_count": 49,
   "metadata": {},
   "outputs": [
    {
     "data": {
      "text/html": [
       "<div>\n",
       "<style scoped>\n",
       "    .dataframe tbody tr th:only-of-type {\n",
       "        vertical-align: middle;\n",
       "    }\n",
       "\n",
       "    .dataframe tbody tr th {\n",
       "        vertical-align: top;\n",
       "    }\n",
       "\n",
       "    .dataframe thead tr th {\n",
       "        text-align: left;\n",
       "    }\n",
       "</style>\n",
       "<table border=\"1\" class=\"dataframe\">\n",
       "  <thead>\n",
       "    <tr>\n",
       "      <th></th>\n",
       "      <th colspan=\"7\" halign=\"left\">AGG</th>\n",
       "      <th colspan=\"7\" halign=\"left\">SPY</th>\n",
       "    </tr>\n",
       "    <tr>\n",
       "      <th></th>\n",
       "      <th>open</th>\n",
       "      <th>high</th>\n",
       "      <th>low</th>\n",
       "      <th>close</th>\n",
       "      <th>volume</th>\n",
       "      <th>trade_count</th>\n",
       "      <th>vwap</th>\n",
       "      <th>open</th>\n",
       "      <th>high</th>\n",
       "      <th>low</th>\n",
       "      <th>close</th>\n",
       "      <th>volume</th>\n",
       "      <th>trade_count</th>\n",
       "      <th>vwap</th>\n",
       "    </tr>\n",
       "  </thead>\n",
       "  <tbody>\n",
       "    <tr>\n",
       "      <th>2020-01-06</th>\n",
       "      <td>113.13</td>\n",
       "      <td>113.13</td>\n",
       "      <td>112.840</td>\n",
       "      <td>112.92</td>\n",
       "      <td>8131608</td>\n",
       "      <td>17277</td>\n",
       "      <td>112.949600</td>\n",
       "      <td>320.4900</td>\n",
       "      <td>323.73</td>\n",
       "      <td>320.36</td>\n",
       "      <td>323.73</td>\n",
       "      <td>55817168</td>\n",
       "      <td>255767</td>\n",
       "      <td>322.722391</td>\n",
       "    </tr>\n",
       "    <tr>\n",
       "      <th>2020-01-07</th>\n",
       "      <td>112.92</td>\n",
       "      <td>112.92</td>\n",
       "      <td>112.780</td>\n",
       "      <td>112.80</td>\n",
       "      <td>2883005</td>\n",
       "      <td>11523</td>\n",
       "      <td>112.834953</td>\n",
       "      <td>323.0200</td>\n",
       "      <td>323.54</td>\n",
       "      <td>322.24</td>\n",
       "      <td>322.74</td>\n",
       "      <td>42874811</td>\n",
       "      <td>226059</td>\n",
       "      <td>322.711069</td>\n",
       "    </tr>\n",
       "    <tr>\n",
       "      <th>2020-01-08</th>\n",
       "      <td>112.85</td>\n",
       "      <td>112.94</td>\n",
       "      <td>112.545</td>\n",
       "      <td>112.67</td>\n",
       "      <td>7323117</td>\n",
       "      <td>12854</td>\n",
       "      <td>112.671650</td>\n",
       "      <td>322.9400</td>\n",
       "      <td>325.78</td>\n",
       "      <td>322.67</td>\n",
       "      <td>324.42</td>\n",
       "      <td>68435753</td>\n",
       "      <td>340004</td>\n",
       "      <td>324.331733</td>\n",
       "    </tr>\n",
       "    <tr>\n",
       "      <th>2020-01-09</th>\n",
       "      <td>112.49</td>\n",
       "      <td>112.79</td>\n",
       "      <td>112.460</td>\n",
       "      <td>112.79</td>\n",
       "      <td>9110852</td>\n",
       "      <td>13407</td>\n",
       "      <td>112.730232</td>\n",
       "      <td>326.1600</td>\n",
       "      <td>326.73</td>\n",
       "      <td>325.52</td>\n",
       "      <td>326.59</td>\n",
       "      <td>48582601</td>\n",
       "      <td>242161</td>\n",
       "      <td>326.093557</td>\n",
       "    </tr>\n",
       "    <tr>\n",
       "      <th>2020-01-10</th>\n",
       "      <td>112.90</td>\n",
       "      <td>112.99</td>\n",
       "      <td>112.820</td>\n",
       "      <td>112.98</td>\n",
       "      <td>4198053</td>\n",
       "      <td>11555</td>\n",
       "      <td>112.924604</td>\n",
       "      <td>327.2899</td>\n",
       "      <td>327.46</td>\n",
       "      <td>325.20</td>\n",
       "      <td>325.64</td>\n",
       "      <td>53057389</td>\n",
       "      <td>236220</td>\n",
       "      <td>326.407649</td>\n",
       "    </tr>\n",
       "  </tbody>\n",
       "</table>\n",
       "</div>"
      ],
      "text/plain": [
       "               AGG                                                            \\\n",
       "              open    high      low   close   volume trade_count        vwap   \n",
       "2020-01-06  113.13  113.13  112.840  112.92  8131608       17277  112.949600   \n",
       "2020-01-07  112.92  112.92  112.780  112.80  2883005       11523  112.834953   \n",
       "2020-01-08  112.85  112.94  112.545  112.67  7323117       12854  112.671650   \n",
       "2020-01-09  112.49  112.79  112.460  112.79  9110852       13407  112.730232   \n",
       "2020-01-10  112.90  112.99  112.820  112.98  4198053       11555  112.924604   \n",
       "\n",
       "                 SPY                                                            \n",
       "                open    high     low   close    volume trade_count        vwap  \n",
       "2020-01-06  320.4900  323.73  320.36  323.73  55817168      255767  322.722391  \n",
       "2020-01-07  323.0200  323.54  322.24  322.74  42874811      226059  322.711069  \n",
       "2020-01-08  322.9400  325.78  322.67  324.42  68435753      340004  324.331733  \n",
       "2020-01-09  326.1600  326.73  325.52  326.59  48582601      242161  326.093557  \n",
       "2020-01-10  327.2899  327.46  325.20  325.64  53057389      236220  326.407649  "
      ]
     },
     "metadata": {},
     "output_type": "display_data"
    },
    {
     "data": {
      "text/html": [
       "<div>\n",
       "<style scoped>\n",
       "    .dataframe tbody tr th:only-of-type {\n",
       "        vertical-align: middle;\n",
       "    }\n",
       "\n",
       "    .dataframe tbody tr th {\n",
       "        vertical-align: top;\n",
       "    }\n",
       "\n",
       "    .dataframe thead tr th {\n",
       "        text-align: left;\n",
       "    }\n",
       "</style>\n",
       "<table border=\"1\" class=\"dataframe\">\n",
       "  <thead>\n",
       "    <tr>\n",
       "      <th></th>\n",
       "      <th colspan=\"7\" halign=\"left\">AGG</th>\n",
       "      <th colspan=\"7\" halign=\"left\">SPY</th>\n",
       "    </tr>\n",
       "    <tr>\n",
       "      <th></th>\n",
       "      <th>open</th>\n",
       "      <th>high</th>\n",
       "      <th>low</th>\n",
       "      <th>close</th>\n",
       "      <th>volume</th>\n",
       "      <th>trade_count</th>\n",
       "      <th>vwap</th>\n",
       "      <th>open</th>\n",
       "      <th>high</th>\n",
       "      <th>low</th>\n",
       "      <th>close</th>\n",
       "      <th>volume</th>\n",
       "      <th>trade_count</th>\n",
       "      <th>vwap</th>\n",
       "    </tr>\n",
       "  </thead>\n",
       "  <tbody>\n",
       "    <tr>\n",
       "      <th>2022-12-30</th>\n",
       "      <td>97.25</td>\n",
       "      <td>97.36</td>\n",
       "      <td>96.9741</td>\n",
       "      <td>96.99</td>\n",
       "      <td>8460107</td>\n",
       "      <td>29791</td>\n",
       "      <td>97.066805</td>\n",
       "      <td>380.64</td>\n",
       "      <td>382.58</td>\n",
       "      <td>378.4300</td>\n",
       "      <td>382.43</td>\n",
       "      <td>83474793</td>\n",
       "      <td>544591</td>\n",
       "      <td>381.220108</td>\n",
       "    </tr>\n",
       "    <tr>\n",
       "      <th>2023-01-03</th>\n",
       "      <td>97.97</td>\n",
       "      <td>97.97</td>\n",
       "      <td>97.3650</td>\n",
       "      <td>97.56</td>\n",
       "      <td>19923745</td>\n",
       "      <td>50478</td>\n",
       "      <td>97.592200</td>\n",
       "      <td>384.37</td>\n",
       "      <td>386.43</td>\n",
       "      <td>377.8310</td>\n",
       "      <td>380.82</td>\n",
       "      <td>74330774</td>\n",
       "      <td>585048</td>\n",
       "      <td>380.961150</td>\n",
       "    </tr>\n",
       "    <tr>\n",
       "      <th>2023-01-04</th>\n",
       "      <td>98.17</td>\n",
       "      <td>98.25</td>\n",
       "      <td>97.8900</td>\n",
       "      <td>98.10</td>\n",
       "      <td>9792320</td>\n",
       "      <td>28896</td>\n",
       "      <td>98.032508</td>\n",
       "      <td>383.18</td>\n",
       "      <td>385.88</td>\n",
       "      <td>380.0000</td>\n",
       "      <td>383.76</td>\n",
       "      <td>85425119</td>\n",
       "      <td>628498</td>\n",
       "      <td>383.151245</td>\n",
       "    </tr>\n",
       "    <tr>\n",
       "      <th>2023-01-05</th>\n",
       "      <td>97.64</td>\n",
       "      <td>98.06</td>\n",
       "      <td>97.5650</td>\n",
       "      <td>98.02</td>\n",
       "      <td>9675668</td>\n",
       "      <td>25578</td>\n",
       "      <td>97.882382</td>\n",
       "      <td>381.72</td>\n",
       "      <td>381.76</td>\n",
       "      <td>378.7600</td>\n",
       "      <td>379.38</td>\n",
       "      <td>76079710</td>\n",
       "      <td>523811</td>\n",
       "      <td>380.264217</td>\n",
       "    </tr>\n",
       "    <tr>\n",
       "      <th>2023-01-06</th>\n",
       "      <td>98.13</td>\n",
       "      <td>99.15</td>\n",
       "      <td>98.0400</td>\n",
       "      <td>99.09</td>\n",
       "      <td>8484694</td>\n",
       "      <td>28134</td>\n",
       "      <td>98.849728</td>\n",
       "      <td>382.61</td>\n",
       "      <td>389.25</td>\n",
       "      <td>379.4127</td>\n",
       "      <td>388.08</td>\n",
       "      <td>103741286</td>\n",
       "      <td>683816</td>\n",
       "      <td>385.248218</td>\n",
       "    </tr>\n",
       "  </tbody>\n",
       "</table>\n",
       "</div>"
      ],
      "text/plain": [
       "              AGG                                                          \\\n",
       "             open   high      low  close    volume trade_count       vwap   \n",
       "2022-12-30  97.25  97.36  96.9741  96.99   8460107       29791  97.066805   \n",
       "2023-01-03  97.97  97.97  97.3650  97.56  19923745       50478  97.592200   \n",
       "2023-01-04  98.17  98.25  97.8900  98.10   9792320       28896  98.032508   \n",
       "2023-01-05  97.64  98.06  97.5650  98.02   9675668       25578  97.882382   \n",
       "2023-01-06  98.13  99.15  98.0400  99.09   8484694       28134  98.849728   \n",
       "\n",
       "               SPY                                                   \\\n",
       "              open    high       low   close     volume trade_count   \n",
       "2022-12-30  380.64  382.58  378.4300  382.43   83474793      544591   \n",
       "2023-01-03  384.37  386.43  377.8310  380.82   74330774      585048   \n",
       "2023-01-04  383.18  385.88  380.0000  383.76   85425119      628498   \n",
       "2023-01-05  381.72  381.76  378.7600  379.38   76079710      523811   \n",
       "2023-01-06  382.61  389.25  379.4127  388.08  103741286      683816   \n",
       "\n",
       "                        \n",
       "                  vwap  \n",
       "2022-12-30  381.220108  \n",
       "2023-01-03  380.961150  \n",
       "2023-01-04  383.151245  \n",
       "2023-01-05  380.264217  \n",
       "2023-01-06  385.248218  "
      ]
     },
     "metadata": {},
     "output_type": "display_data"
    }
   ],
   "source": [
    "# Use the Alpaca get_bars function to make the API call to get the 3 years worth of pricing data\n",
    "# The tickers and timeframe parameters should have been set in Part 1 of this activity \n",
    "# The start and end dates should be updated with the information set above\n",
    "# Remember to add the df property to the end of the call so the response is returned as a DataFrame\n",
    "price_hist_df=alpaca.get_bars(tickers,\n",
    "                             timeframe,\n",
    "                             start=start_date,\n",
    "                             end=end_date).df\n",
    "price_hist_df\n",
    "# Reorganize the DataFrame\n",
    "# Separate ticker data\n",
    "AGG=price_hist_df[price_hist_df['symbol']=='AGG'].drop('symbol',axis=1)\n",
    "SPY=price_hist_df[price_hist_df['symbol']=='SPY'].drop('symbol',axis=1)\n",
    "\n",
    "# display(AGG.head())\n",
    "# display(SPY.head())\n",
    "# Concatenate the ticker DataFrames\n",
    "price_hist_df=pd.concat([AGG,SPY],axis=1,keys=['AGG','SPY'])\n",
    "\n",
    "price_hist_df.index=price_hist_df.index.date\n",
    "\n",
    "# Display both the first and last five rows of the DataFrame\n",
    "display(price_hist_df.head())\n",
    "display(price_hist_df.tail())"
   ]
  },
  {
   "cell_type": "markdown",
   "metadata": {},
   "source": [
    "#### Step 2: Run a Monte Carlo simulation of 500 samples and 30 years for the 60/40 portfolio, and then plot the results."
   ]
  },
  {
   "cell_type": "code",
   "execution_count": 50,
   "metadata": {},
   "outputs": [
    {
     "data": {
      "text/html": [
       "<div>\n",
       "<style scoped>\n",
       "    .dataframe tbody tr th:only-of-type {\n",
       "        vertical-align: middle;\n",
       "    }\n",
       "\n",
       "    .dataframe tbody tr th {\n",
       "        vertical-align: top;\n",
       "    }\n",
       "\n",
       "    .dataframe thead tr th {\n",
       "        text-align: left;\n",
       "    }\n",
       "</style>\n",
       "<table border=\"1\" class=\"dataframe\">\n",
       "  <thead>\n",
       "    <tr>\n",
       "      <th></th>\n",
       "      <th colspan=\"8\" halign=\"left\">AGG</th>\n",
       "      <th colspan=\"8\" halign=\"left\">SPY</th>\n",
       "    </tr>\n",
       "    <tr>\n",
       "      <th></th>\n",
       "      <th>open</th>\n",
       "      <th>high</th>\n",
       "      <th>low</th>\n",
       "      <th>close</th>\n",
       "      <th>volume</th>\n",
       "      <th>trade_count</th>\n",
       "      <th>vwap</th>\n",
       "      <th>daily_return</th>\n",
       "      <th>open</th>\n",
       "      <th>high</th>\n",
       "      <th>low</th>\n",
       "      <th>close</th>\n",
       "      <th>volume</th>\n",
       "      <th>trade_count</th>\n",
       "      <th>vwap</th>\n",
       "      <th>daily_return</th>\n",
       "    </tr>\n",
       "  </thead>\n",
       "  <tbody>\n",
       "    <tr>\n",
       "      <th>2020-01-06</th>\n",
       "      <td>113.13</td>\n",
       "      <td>113.13</td>\n",
       "      <td>112.840</td>\n",
       "      <td>112.92</td>\n",
       "      <td>8131608</td>\n",
       "      <td>17277</td>\n",
       "      <td>112.949600</td>\n",
       "      <td>NaN</td>\n",
       "      <td>320.4900</td>\n",
       "      <td>323.73</td>\n",
       "      <td>320.36</td>\n",
       "      <td>323.73</td>\n",
       "      <td>55817168</td>\n",
       "      <td>255767</td>\n",
       "      <td>322.722391</td>\n",
       "      <td>NaN</td>\n",
       "    </tr>\n",
       "    <tr>\n",
       "      <th>2020-01-07</th>\n",
       "      <td>112.92</td>\n",
       "      <td>112.92</td>\n",
       "      <td>112.780</td>\n",
       "      <td>112.80</td>\n",
       "      <td>2883005</td>\n",
       "      <td>11523</td>\n",
       "      <td>112.834953</td>\n",
       "      <td>-0.001063</td>\n",
       "      <td>323.0200</td>\n",
       "      <td>323.54</td>\n",
       "      <td>322.24</td>\n",
       "      <td>322.74</td>\n",
       "      <td>42874811</td>\n",
       "      <td>226059</td>\n",
       "      <td>322.711069</td>\n",
       "      <td>-0.003058</td>\n",
       "    </tr>\n",
       "    <tr>\n",
       "      <th>2020-01-08</th>\n",
       "      <td>112.85</td>\n",
       "      <td>112.94</td>\n",
       "      <td>112.545</td>\n",
       "      <td>112.67</td>\n",
       "      <td>7323117</td>\n",
       "      <td>12854</td>\n",
       "      <td>112.671650</td>\n",
       "      <td>-0.001152</td>\n",
       "      <td>322.9400</td>\n",
       "      <td>325.78</td>\n",
       "      <td>322.67</td>\n",
       "      <td>324.42</td>\n",
       "      <td>68435753</td>\n",
       "      <td>340004</td>\n",
       "      <td>324.331733</td>\n",
       "      <td>0.005205</td>\n",
       "    </tr>\n",
       "    <tr>\n",
       "      <th>2020-01-09</th>\n",
       "      <td>112.49</td>\n",
       "      <td>112.79</td>\n",
       "      <td>112.460</td>\n",
       "      <td>112.79</td>\n",
       "      <td>9110852</td>\n",
       "      <td>13407</td>\n",
       "      <td>112.730232</td>\n",
       "      <td>0.001065</td>\n",
       "      <td>326.1600</td>\n",
       "      <td>326.73</td>\n",
       "      <td>325.52</td>\n",
       "      <td>326.59</td>\n",
       "      <td>48582601</td>\n",
       "      <td>242161</td>\n",
       "      <td>326.093557</td>\n",
       "      <td>0.006689</td>\n",
       "    </tr>\n",
       "    <tr>\n",
       "      <th>2020-01-10</th>\n",
       "      <td>112.90</td>\n",
       "      <td>112.99</td>\n",
       "      <td>112.820</td>\n",
       "      <td>112.98</td>\n",
       "      <td>4198053</td>\n",
       "      <td>11555</td>\n",
       "      <td>112.924604</td>\n",
       "      <td>0.001685</td>\n",
       "      <td>327.2899</td>\n",
       "      <td>327.46</td>\n",
       "      <td>325.20</td>\n",
       "      <td>325.64</td>\n",
       "      <td>53057389</td>\n",
       "      <td>236220</td>\n",
       "      <td>326.407649</td>\n",
       "      <td>-0.002909</td>\n",
       "    </tr>\n",
       "  </tbody>\n",
       "</table>\n",
       "</div>"
      ],
      "text/plain": [
       "               AGG                                                            \\\n",
       "              open    high      low   close   volume trade_count        vwap   \n",
       "2020-01-06  113.13  113.13  112.840  112.92  8131608       17277  112.949600   \n",
       "2020-01-07  112.92  112.92  112.780  112.80  2883005       11523  112.834953   \n",
       "2020-01-08  112.85  112.94  112.545  112.67  7323117       12854  112.671650   \n",
       "2020-01-09  112.49  112.79  112.460  112.79  9110852       13407  112.730232   \n",
       "2020-01-10  112.90  112.99  112.820  112.98  4198053       11555  112.924604   \n",
       "\n",
       "                              SPY                                    \\\n",
       "           daily_return      open    high     low   close    volume   \n",
       "2020-01-06          NaN  320.4900  323.73  320.36  323.73  55817168   \n",
       "2020-01-07    -0.001063  323.0200  323.54  322.24  322.74  42874811   \n",
       "2020-01-08    -0.001152  322.9400  325.78  322.67  324.42  68435753   \n",
       "2020-01-09     0.001065  326.1600  326.73  325.52  326.59  48582601   \n",
       "2020-01-10     0.001685  327.2899  327.46  325.20  325.64  53057389   \n",
       "\n",
       "                                                 \n",
       "           trade_count        vwap daily_return  \n",
       "2020-01-06      255767  322.722391          NaN  \n",
       "2020-01-07      226059  322.711069    -0.003058  \n",
       "2020-01-08      340004  324.331733     0.005205  \n",
       "2020-01-09      242161  326.093557     0.006689  \n",
       "2020-01-10      236220  326.407649    -0.002909  "
      ]
     },
     "execution_count": 50,
     "metadata": {},
     "output_type": "execute_result"
    }
   ],
   "source": [
    "# Configure the Monte Carlo simulation to forecast 30 years cumulative returns\n",
    "# The weights should be split 40% to AGG and 60% to SPY.\n",
    "# Run 500 samples.\n",
    "weights_40_60=[0.4,0.6]\n",
    "\n",
    "MC_Simulation_30year=MCSimulation(portfolio_data=price_hist_df,\n",
    "                                 weights=weights_40_60,\n",
    "                                 num_simulation=500,\n",
    "                                 num_trading_days=252*30)\n",
    "# Review the simulation input data\n",
    "MC_Simulation_30year.portfolio_data.head()"
   ]
  },
  {
   "cell_type": "code",
   "execution_count": 51,
   "metadata": {},
   "outputs": [
    {
     "name": "stdout",
     "output_type": "stream",
     "text": [
      "Running Monte Carlo simulation number 0.\n",
      "Running Monte Carlo simulation number 10.\n",
      "Running Monte Carlo simulation number 20.\n",
      "Running Monte Carlo simulation number 30.\n",
      "Running Monte Carlo simulation number 40.\n",
      "Running Monte Carlo simulation number 50.\n",
      "Running Monte Carlo simulation number 60.\n",
      "Running Monte Carlo simulation number 70.\n",
      "Running Monte Carlo simulation number 80.\n",
      "Running Monte Carlo simulation number 90.\n",
      "Running Monte Carlo simulation number 100.\n"
     ]
    },
    {
     "name": "stderr",
     "output_type": "stream",
     "text": [
      "C:\\Users\\kunal\\OneDrive\\FinTech Bootcamp\\FintechWorkSpace\\Python_Project\\Module5-Challenge\\MCForecastTools.py:117: PerformanceWarning: DataFrame is highly fragmented.  This is usually the result of calling `frame.insert` many times, which has poor performance.  Consider joining all columns at once using pd.concat(axis=1) instead.  To get a de-fragmented frame, use `newframe = frame.copy()`\n",
      "  portfolio_cumulative_returns[n] = (1 + sim_df.fillna(0)).cumprod()\n"
     ]
    },
    {
     "name": "stdout",
     "output_type": "stream",
     "text": [
      "Running Monte Carlo simulation number 110.\n",
      "Running Monte Carlo simulation number 120.\n",
      "Running Monte Carlo simulation number 130.\n",
      "Running Monte Carlo simulation number 140.\n",
      "Running Monte Carlo simulation number 150.\n",
      "Running Monte Carlo simulation number 160.\n",
      "Running Monte Carlo simulation number 170.\n",
      "Running Monte Carlo simulation number 180.\n",
      "Running Monte Carlo simulation number 190.\n",
      "Running Monte Carlo simulation number 200.\n",
      "Running Monte Carlo simulation number 210.\n",
      "Running Monte Carlo simulation number 220.\n",
      "Running Monte Carlo simulation number 230.\n",
      "Running Monte Carlo simulation number 240.\n",
      "Running Monte Carlo simulation number 250.\n",
      "Running Monte Carlo simulation number 260.\n",
      "Running Monte Carlo simulation number 270.\n",
      "Running Monte Carlo simulation number 280.\n",
      "Running Monte Carlo simulation number 290.\n",
      "Running Monte Carlo simulation number 300.\n",
      "Running Monte Carlo simulation number 310.\n",
      "Running Monte Carlo simulation number 320.\n",
      "Running Monte Carlo simulation number 330.\n",
      "Running Monte Carlo simulation number 340.\n",
      "Running Monte Carlo simulation number 350.\n",
      "Running Monte Carlo simulation number 360.\n",
      "Running Monte Carlo simulation number 370.\n",
      "Running Monte Carlo simulation number 380.\n",
      "Running Monte Carlo simulation number 390.\n",
      "Running Monte Carlo simulation number 400.\n",
      "Running Monte Carlo simulation number 410.\n",
      "Running Monte Carlo simulation number 420.\n",
      "Running Monte Carlo simulation number 430.\n",
      "Running Monte Carlo simulation number 440.\n",
      "Running Monte Carlo simulation number 450.\n",
      "Running Monte Carlo simulation number 460.\n",
      "Running Monte Carlo simulation number 470.\n",
      "Running Monte Carlo simulation number 480.\n",
      "Running Monte Carlo simulation number 490.\n"
     ]
    },
    {
     "data": {
      "text/html": [
       "<div>\n",
       "<style scoped>\n",
       "    .dataframe tbody tr th:only-of-type {\n",
       "        vertical-align: middle;\n",
       "    }\n",
       "\n",
       "    .dataframe tbody tr th {\n",
       "        vertical-align: top;\n",
       "    }\n",
       "\n",
       "    .dataframe thead th {\n",
       "        text-align: right;\n",
       "    }\n",
       "</style>\n",
       "<table border=\"1\" class=\"dataframe\">\n",
       "  <thead>\n",
       "    <tr style=\"text-align: right;\">\n",
       "      <th></th>\n",
       "      <th>0</th>\n",
       "      <th>1</th>\n",
       "      <th>2</th>\n",
       "      <th>3</th>\n",
       "      <th>4</th>\n",
       "      <th>5</th>\n",
       "      <th>6</th>\n",
       "      <th>7</th>\n",
       "      <th>8</th>\n",
       "      <th>9</th>\n",
       "      <th>...</th>\n",
       "      <th>490</th>\n",
       "      <th>491</th>\n",
       "      <th>492</th>\n",
       "      <th>493</th>\n",
       "      <th>494</th>\n",
       "      <th>495</th>\n",
       "      <th>496</th>\n",
       "      <th>497</th>\n",
       "      <th>498</th>\n",
       "      <th>499</th>\n",
       "    </tr>\n",
       "  </thead>\n",
       "  <tbody>\n",
       "    <tr>\n",
       "      <th>0</th>\n",
       "      <td>1.000000</td>\n",
       "      <td>1.000000</td>\n",
       "      <td>1.000000</td>\n",
       "      <td>1.000000</td>\n",
       "      <td>1.000000</td>\n",
       "      <td>1.000000</td>\n",
       "      <td>1.000000</td>\n",
       "      <td>1.000000</td>\n",
       "      <td>1.000000</td>\n",
       "      <td>1.000000</td>\n",
       "      <td>...</td>\n",
       "      <td>1.000000</td>\n",
       "      <td>1.000000</td>\n",
       "      <td>1.000000</td>\n",
       "      <td>1.000000</td>\n",
       "      <td>1.000000</td>\n",
       "      <td>1.000000</td>\n",
       "      <td>1.000000</td>\n",
       "      <td>1.000000</td>\n",
       "      <td>1.000000</td>\n",
       "      <td>1.000000</td>\n",
       "    </tr>\n",
       "    <tr>\n",
       "      <th>1</th>\n",
       "      <td>1.000406</td>\n",
       "      <td>1.004789</td>\n",
       "      <td>0.992500</td>\n",
       "      <td>1.007603</td>\n",
       "      <td>0.992908</td>\n",
       "      <td>1.006274</td>\n",
       "      <td>1.002497</td>\n",
       "      <td>1.000683</td>\n",
       "      <td>0.986448</td>\n",
       "      <td>1.000550</td>\n",
       "      <td>...</td>\n",
       "      <td>1.005051</td>\n",
       "      <td>1.008259</td>\n",
       "      <td>0.981983</td>\n",
       "      <td>1.016227</td>\n",
       "      <td>0.995971</td>\n",
       "      <td>1.017677</td>\n",
       "      <td>1.000010</td>\n",
       "      <td>1.005239</td>\n",
       "      <td>0.995699</td>\n",
       "      <td>1.002197</td>\n",
       "    </tr>\n",
       "    <tr>\n",
       "      <th>2</th>\n",
       "      <td>0.981858</td>\n",
       "      <td>1.006852</td>\n",
       "      <td>0.995665</td>\n",
       "      <td>1.003126</td>\n",
       "      <td>1.003693</td>\n",
       "      <td>1.017427</td>\n",
       "      <td>1.003606</td>\n",
       "      <td>1.000234</td>\n",
       "      <td>0.981907</td>\n",
       "      <td>0.978677</td>\n",
       "      <td>...</td>\n",
       "      <td>1.011420</td>\n",
       "      <td>1.003660</td>\n",
       "      <td>0.967982</td>\n",
       "      <td>1.027254</td>\n",
       "      <td>0.974068</td>\n",
       "      <td>1.014721</td>\n",
       "      <td>1.002685</td>\n",
       "      <td>1.012016</td>\n",
       "      <td>1.004826</td>\n",
       "      <td>1.024994</td>\n",
       "    </tr>\n",
       "    <tr>\n",
       "      <th>3</th>\n",
       "      <td>0.992615</td>\n",
       "      <td>0.998056</td>\n",
       "      <td>0.990869</td>\n",
       "      <td>0.999318</td>\n",
       "      <td>0.995414</td>\n",
       "      <td>1.014463</td>\n",
       "      <td>1.010923</td>\n",
       "      <td>0.995522</td>\n",
       "      <td>0.989189</td>\n",
       "      <td>0.976039</td>\n",
       "      <td>...</td>\n",
       "      <td>1.003461</td>\n",
       "      <td>0.992645</td>\n",
       "      <td>0.966655</td>\n",
       "      <td>1.025842</td>\n",
       "      <td>0.985658</td>\n",
       "      <td>1.035179</td>\n",
       "      <td>1.008911</td>\n",
       "      <td>1.017927</td>\n",
       "      <td>1.002928</td>\n",
       "      <td>1.020222</td>\n",
       "    </tr>\n",
       "    <tr>\n",
       "      <th>4</th>\n",
       "      <td>0.989939</td>\n",
       "      <td>0.996840</td>\n",
       "      <td>0.985858</td>\n",
       "      <td>1.002131</td>\n",
       "      <td>0.982750</td>\n",
       "      <td>1.010869</td>\n",
       "      <td>0.997878</td>\n",
       "      <td>1.017001</td>\n",
       "      <td>0.981441</td>\n",
       "      <td>0.996885</td>\n",
       "      <td>...</td>\n",
       "      <td>1.002735</td>\n",
       "      <td>0.995502</td>\n",
       "      <td>0.954449</td>\n",
       "      <td>1.027264</td>\n",
       "      <td>0.990997</td>\n",
       "      <td>1.041689</td>\n",
       "      <td>1.017251</td>\n",
       "      <td>1.003082</td>\n",
       "      <td>0.997943</td>\n",
       "      <td>0.996815</td>\n",
       "    </tr>\n",
       "    <tr>\n",
       "      <th>...</th>\n",
       "      <td>...</td>\n",
       "      <td>...</td>\n",
       "      <td>...</td>\n",
       "      <td>...</td>\n",
       "      <td>...</td>\n",
       "      <td>...</td>\n",
       "      <td>...</td>\n",
       "      <td>...</td>\n",
       "      <td>...</td>\n",
       "      <td>...</td>\n",
       "      <td>...</td>\n",
       "      <td>...</td>\n",
       "      <td>...</td>\n",
       "      <td>...</td>\n",
       "      <td>...</td>\n",
       "      <td>...</td>\n",
       "      <td>...</td>\n",
       "      <td>...</td>\n",
       "      <td>...</td>\n",
       "      <td>...</td>\n",
       "      <td>...</td>\n",
       "    </tr>\n",
       "    <tr>\n",
       "      <th>7556</th>\n",
       "      <td>0.890847</td>\n",
       "      <td>1.633589</td>\n",
       "      <td>1.134268</td>\n",
       "      <td>1.223590</td>\n",
       "      <td>2.237577</td>\n",
       "      <td>0.925535</td>\n",
       "      <td>5.821020</td>\n",
       "      <td>7.783832</td>\n",
       "      <td>5.029231</td>\n",
       "      <td>0.576300</td>\n",
       "      <td>...</td>\n",
       "      <td>2.996837</td>\n",
       "      <td>10.067523</td>\n",
       "      <td>1.232793</td>\n",
       "      <td>5.106807</td>\n",
       "      <td>20.807522</td>\n",
       "      <td>1.348095</td>\n",
       "      <td>2.760912</td>\n",
       "      <td>3.403514</td>\n",
       "      <td>1.417011</td>\n",
       "      <td>2.224491</td>\n",
       "    </tr>\n",
       "    <tr>\n",
       "      <th>7557</th>\n",
       "      <td>0.906052</td>\n",
       "      <td>1.630378</td>\n",
       "      <td>1.141662</td>\n",
       "      <td>1.228956</td>\n",
       "      <td>2.260467</td>\n",
       "      <td>0.912122</td>\n",
       "      <td>5.781127</td>\n",
       "      <td>7.782573</td>\n",
       "      <td>5.084673</td>\n",
       "      <td>0.574902</td>\n",
       "      <td>...</td>\n",
       "      <td>2.972550</td>\n",
       "      <td>9.986941</td>\n",
       "      <td>1.247381</td>\n",
       "      <td>5.058105</td>\n",
       "      <td>20.386000</td>\n",
       "      <td>1.306192</td>\n",
       "      <td>2.746144</td>\n",
       "      <td>3.442831</td>\n",
       "      <td>1.420711</td>\n",
       "      <td>2.239590</td>\n",
       "    </tr>\n",
       "    <tr>\n",
       "      <th>7558</th>\n",
       "      <td>0.917889</td>\n",
       "      <td>1.622832</td>\n",
       "      <td>1.152747</td>\n",
       "      <td>1.242095</td>\n",
       "      <td>2.274978</td>\n",
       "      <td>0.909068</td>\n",
       "      <td>5.732127</td>\n",
       "      <td>7.672630</td>\n",
       "      <td>5.033750</td>\n",
       "      <td>0.573305</td>\n",
       "      <td>...</td>\n",
       "      <td>2.981293</td>\n",
       "      <td>10.141955</td>\n",
       "      <td>1.253564</td>\n",
       "      <td>5.078071</td>\n",
       "      <td>20.397064</td>\n",
       "      <td>1.298015</td>\n",
       "      <td>2.779339</td>\n",
       "      <td>3.500189</td>\n",
       "      <td>1.434187</td>\n",
       "      <td>2.207557</td>\n",
       "    </tr>\n",
       "    <tr>\n",
       "      <th>7559</th>\n",
       "      <td>0.912150</td>\n",
       "      <td>1.630690</td>\n",
       "      <td>1.150522</td>\n",
       "      <td>1.223376</td>\n",
       "      <td>2.247653</td>\n",
       "      <td>0.899171</td>\n",
       "      <td>5.794888</td>\n",
       "      <td>7.581426</td>\n",
       "      <td>5.020824</td>\n",
       "      <td>0.581992</td>\n",
       "      <td>...</td>\n",
       "      <td>2.971641</td>\n",
       "      <td>10.055628</td>\n",
       "      <td>1.246720</td>\n",
       "      <td>5.091108</td>\n",
       "      <td>20.602764</td>\n",
       "      <td>1.283321</td>\n",
       "      <td>2.784396</td>\n",
       "      <td>3.470720</td>\n",
       "      <td>1.437627</td>\n",
       "      <td>2.221987</td>\n",
       "    </tr>\n",
       "    <tr>\n",
       "      <th>7560</th>\n",
       "      <td>0.911483</td>\n",
       "      <td>1.621573</td>\n",
       "      <td>1.168156</td>\n",
       "      <td>1.243460</td>\n",
       "      <td>2.238484</td>\n",
       "      <td>0.909860</td>\n",
       "      <td>5.892614</td>\n",
       "      <td>7.474781</td>\n",
       "      <td>5.103962</td>\n",
       "      <td>0.578828</td>\n",
       "      <td>...</td>\n",
       "      <td>2.988790</td>\n",
       "      <td>10.171479</td>\n",
       "      <td>1.271273</td>\n",
       "      <td>5.159696</td>\n",
       "      <td>20.939582</td>\n",
       "      <td>1.305296</td>\n",
       "      <td>2.827877</td>\n",
       "      <td>3.456794</td>\n",
       "      <td>1.453694</td>\n",
       "      <td>2.193308</td>\n",
       "    </tr>\n",
       "  </tbody>\n",
       "</table>\n",
       "<p>7561 rows × 500 columns</p>\n",
       "</div>"
      ],
      "text/plain": [
       "           0         1         2         3         4         5         6    \\\n",
       "0     1.000000  1.000000  1.000000  1.000000  1.000000  1.000000  1.000000   \n",
       "1     1.000406  1.004789  0.992500  1.007603  0.992908  1.006274  1.002497   \n",
       "2     0.981858  1.006852  0.995665  1.003126  1.003693  1.017427  1.003606   \n",
       "3     0.992615  0.998056  0.990869  0.999318  0.995414  1.014463  1.010923   \n",
       "4     0.989939  0.996840  0.985858  1.002131  0.982750  1.010869  0.997878   \n",
       "...        ...       ...       ...       ...       ...       ...       ...   \n",
       "7556  0.890847  1.633589  1.134268  1.223590  2.237577  0.925535  5.821020   \n",
       "7557  0.906052  1.630378  1.141662  1.228956  2.260467  0.912122  5.781127   \n",
       "7558  0.917889  1.622832  1.152747  1.242095  2.274978  0.909068  5.732127   \n",
       "7559  0.912150  1.630690  1.150522  1.223376  2.247653  0.899171  5.794888   \n",
       "7560  0.911483  1.621573  1.168156  1.243460  2.238484  0.909860  5.892614   \n",
       "\n",
       "           7         8         9    ...       490        491       492  \\\n",
       "0     1.000000  1.000000  1.000000  ...  1.000000   1.000000  1.000000   \n",
       "1     1.000683  0.986448  1.000550  ...  1.005051   1.008259  0.981983   \n",
       "2     1.000234  0.981907  0.978677  ...  1.011420   1.003660  0.967982   \n",
       "3     0.995522  0.989189  0.976039  ...  1.003461   0.992645  0.966655   \n",
       "4     1.017001  0.981441  0.996885  ...  1.002735   0.995502  0.954449   \n",
       "...        ...       ...       ...  ...       ...        ...       ...   \n",
       "7556  7.783832  5.029231  0.576300  ...  2.996837  10.067523  1.232793   \n",
       "7557  7.782573  5.084673  0.574902  ...  2.972550   9.986941  1.247381   \n",
       "7558  7.672630  5.033750  0.573305  ...  2.981293  10.141955  1.253564   \n",
       "7559  7.581426  5.020824  0.581992  ...  2.971641  10.055628  1.246720   \n",
       "7560  7.474781  5.103962  0.578828  ...  2.988790  10.171479  1.271273   \n",
       "\n",
       "           493        494       495       496       497       498       499  \n",
       "0     1.000000   1.000000  1.000000  1.000000  1.000000  1.000000  1.000000  \n",
       "1     1.016227   0.995971  1.017677  1.000010  1.005239  0.995699  1.002197  \n",
       "2     1.027254   0.974068  1.014721  1.002685  1.012016  1.004826  1.024994  \n",
       "3     1.025842   0.985658  1.035179  1.008911  1.017927  1.002928  1.020222  \n",
       "4     1.027264   0.990997  1.041689  1.017251  1.003082  0.997943  0.996815  \n",
       "...        ...        ...       ...       ...       ...       ...       ...  \n",
       "7556  5.106807  20.807522  1.348095  2.760912  3.403514  1.417011  2.224491  \n",
       "7557  5.058105  20.386000  1.306192  2.746144  3.442831  1.420711  2.239590  \n",
       "7558  5.078071  20.397064  1.298015  2.779339  3.500189  1.434187  2.207557  \n",
       "7559  5.091108  20.602764  1.283321  2.784396  3.470720  1.437627  2.221987  \n",
       "7560  5.159696  20.939582  1.305296  2.827877  3.456794  1.453694  2.193308  \n",
       "\n",
       "[7561 rows x 500 columns]"
      ]
     },
     "execution_count": 51,
     "metadata": {},
     "output_type": "execute_result"
    }
   ],
   "source": [
    "# Run the Monte Carlo simulation to forecast 30 years cumulative returns\n",
    "\n",
    "MC_Simulation_30year.calc_cumulative_return()"
   ]
  },
  {
   "cell_type": "code",
   "execution_count": 52,
   "metadata": {},
   "outputs": [
    {
     "data": {
      "image/png": "[encoded data removed]",
      "text/plain": [
       "<Figure size 640x480 with 1 Axes>"
      ]
     },
     "metadata": {},
     "output_type": "display_data"
    }
   ],
   "source": [
    "# Visualize the 30-year Monte Carlo simulation by creating an\n",
    "# overlay line plot\n",
    "MC_Simulation_30year_plot=MC_Simulation_30year.plot_simulation()\n",
    "\n",
    "MC_Simulation_30year_plot.get_figure().savefig('Simulation_Plot_30_Years_AGG40_SPY60.png', bbox_inches='tight')"
   ]
  },
  {
   "cell_type": "markdown",
   "metadata": {},
   "source": [
    "#### Step 3: Plot the probability distribution of the Monte Carlo simulation."
   ]
  },
  {
   "cell_type": "code",
   "execution_count": 53,
   "metadata": {},
   "outputs": [
    {
     "data": {
      "image/png": "[encoded data removed]",
      "text/plain": [
       "<Figure size 640x480 with 1 Axes>"
      ]
     },
     "metadata": {},
     "output_type": "display_data"
    }
   ],
   "source": [
    "# Visualize the probability distribution of the 30-year Monte Carlo simulation \n",
    "# by plotting a histogram\n",
    "MC_Simulation_30year_dist_plot=MC_Simulation_30year.plot_distribution()\n",
    "\n",
    "MC_Simulation_30year_dist_plot.get_figure().savefig('Distribution_plot_30_Years_AGG40_SPY60.png',bbox_inches='tight')"
   ]
  },
  {
   "cell_type": "markdown",
   "metadata": {},
   "source": [
    "#### Step 4: Generate the summary statistics for the Monte Carlo simulation."
   ]
  },
  {
   "cell_type": "code",
   "execution_count": 54,
   "metadata": {},
   "outputs": [
    {
     "name": "stdout",
     "output_type": "stream",
     "text": [
      "count           500.000000\n",
      "mean              3.437584\n",
      "std               3.284666\n",
      "min               0.243640\n",
      "25%               1.298104\n",
      "50%               2.396608\n",
      "75%               4.273735\n",
      "max              20.939582\n",
      "95% CI Lower      0.505202\n",
      "95% CI Upper     12.776364\n",
      "Name: 7560, dtype: float64\n"
     ]
    }
   ],
   "source": [
    "# Generate summary statistics from the 30-year Monte Carlo simulation results\n",
    "# Save the results as a variable\n",
    "summary_table_agg40_spy60=MC_Simulation_30year.summarize_cumulative_return()\n",
    "\n",
    "\n",
    "# Review the 30-year Monte Carlo summary statistics\n",
    "print(summary_table_agg40_spy60)"
   ]
  },
  {
   "cell_type": "markdown",
   "metadata": {},
   "source": [
    "### Analyze the Retirement Portfolio Forecasts\n",
    "\n",
    "Using the current value of only the stock and bond portion of the member's portfolio and the summary statistics that you generated from the Monte Carlo simulation, answer the following question in your Jupyter notebook:\n",
    "\n",
    "-  What are the lower and upper bounds for the expected value of the portfolio with a 95% confidence interval?\n"
   ]
  },
  {
   "cell_type": "code",
   "execution_count": 62,
   "metadata": {},
   "outputs": [
    {
     "data": {
      "text/plain": [
       "62506.799999999996"
      ]
     },
     "execution_count": 62,
     "metadata": {},
     "output_type": "execute_result"
    }
   ],
   "source": [
    "# Print the current balance of the stock and bond portion of the members portfolio\n",
    "savings_df.loc['stock/bond','amount']"
   ]
  },
  {
   "cell_type": "code",
   "execution_count": 70,
   "metadata": {},
   "outputs": [
    {
     "name": "stdout",
     "output_type": "stream",
     "text": [
      "Estimated value of the current stock/bond holding with a 95% confidence interval is expected to range from\n",
      "$31578.54 to $798609.66\n"
     ]
    }
   ],
   "source": [
    "# Use the lower and upper `95%` confidence intervals to calculate the range of the possible outcomes for the current stock/bond portfolio\n",
    "ci_lower_thirty_cumulative_return = summary_table_agg40_spy60[8]*savings_df.loc['stock/bond','amount']\n",
    "ci_upper_thirty_cumulative_return = summary_table_agg40_spy60[9]*savings_df.loc['stock/bond','amount']\n",
    "\n",
    "# Print the result of your calculations\n",
    "# print(ci_lower_thirty_cumulative_return)\n",
    "# print(ci_upper_thirty_cumulative_return)\n",
    "print(f'Estimated value of the current stock/bond holding over 30 years with a 95% confidence interval is expected to range from')\n",
    "print(f'${ci_lower_thirty_cumulative_return:.2f} to ${ci_upper_thirty_cumulative_return:.2f}')"
   ]
  },
  {
   "cell_type": "markdown",
   "metadata": {},
   "source": [
    "### Forecast Cumulative Returns in 10 Years\n",
    "\n",
    "The CTO of the credit union is impressed with your work on these planning tools but wonders if 30 years is a long time to wait until retirement. So, your next task is to adjust the retirement portfolio and run a new Monte Carlo simulation to find out if the changes will allow members to retire earlier.\n",
    "\n",
    "For this new Monte Carlo simulation, do the following: \n",
    "\n",
    "- Forecast the cumulative returns for 10 years from now. Because of the shortened investment horizon (30 years to 10 years), the portfolio needs to invest more heavily in the riskier asset&mdash;that is, stock&mdash;to help accumulate wealth for retirement. \n",
    "\n",
    "- Adjust the weights of the retirement portfolio so that the composition for the Monte Carlo simulation consists of 20% bonds and 80% stocks. \n",
    "\n",
    "- Run the simulation over 500 samples, and use the same data that the API call to Alpaca generated.\n",
    "\n",
    "- Based on the new Monte Carlo simulation, answer the following questions in your Jupyter notebook:\n",
    "\n",
    "    - Using the current value of only the stock and bond portion of the member's portfolio and the summary statistics that you generated from the new Monte Carlo simulation, what are the lower and upper bounds for the expected value of the portfolio (with the new weights) with a 95% confidence interval?\n",
    "\n",
    "    - Will weighting the portfolio more heavily toward stocks allow the credit union members to retire after only 10 years?\n"
   ]
  },
  {
   "cell_type": "code",
   "execution_count": 72,
   "metadata": {},
   "outputs": [
    {
     "data": {
      "text/html": [
       "<div>\n",
       "<style scoped>\n",
       "    .dataframe tbody tr th:only-of-type {\n",
       "        vertical-align: middle;\n",
       "    }\n",
       "\n",
       "    .dataframe tbody tr th {\n",
       "        vertical-align: top;\n",
       "    }\n",
       "\n",
       "    .dataframe thead tr th {\n",
       "        text-align: left;\n",
       "    }\n",
       "</style>\n",
       "<table border=\"1\" class=\"dataframe\">\n",
       "  <thead>\n",
       "    <tr>\n",
       "      <th></th>\n",
       "      <th colspan=\"8\" halign=\"left\">AGG</th>\n",
       "      <th colspan=\"8\" halign=\"left\">SPY</th>\n",
       "    </tr>\n",
       "    <tr>\n",
       "      <th></th>\n",
       "      <th>open</th>\n",
       "      <th>high</th>\n",
       "      <th>low</th>\n",
       "      <th>close</th>\n",
       "      <th>volume</th>\n",
       "      <th>trade_count</th>\n",
       "      <th>vwap</th>\n",
       "      <th>daily_return</th>\n",
       "      <th>open</th>\n",
       "      <th>high</th>\n",
       "      <th>low</th>\n",
       "      <th>close</th>\n",
       "      <th>volume</th>\n",
       "      <th>trade_count</th>\n",
       "      <th>vwap</th>\n",
       "      <th>daily_return</th>\n",
       "    </tr>\n",
       "  </thead>\n",
       "  <tbody>\n",
       "    <tr>\n",
       "      <th>2022-12-30</th>\n",
       "      <td>97.25</td>\n",
       "      <td>97.36</td>\n",
       "      <td>96.9741</td>\n",
       "      <td>96.99</td>\n",
       "      <td>8460107</td>\n",
       "      <td>29791</td>\n",
       "      <td>97.066805</td>\n",
       "      <td>-0.004720</td>\n",
       "      <td>380.64</td>\n",
       "      <td>382.58</td>\n",
       "      <td>378.4300</td>\n",
       "      <td>382.43</td>\n",
       "      <td>83474793</td>\n",
       "      <td>544591</td>\n",
       "      <td>381.220108</td>\n",
       "      <td>-0.002634</td>\n",
       "    </tr>\n",
       "    <tr>\n",
       "      <th>2023-01-03</th>\n",
       "      <td>97.97</td>\n",
       "      <td>97.97</td>\n",
       "      <td>97.3650</td>\n",
       "      <td>97.56</td>\n",
       "      <td>19923745</td>\n",
       "      <td>50478</td>\n",
       "      <td>97.592200</td>\n",
       "      <td>0.005877</td>\n",
       "      <td>384.37</td>\n",
       "      <td>386.43</td>\n",
       "      <td>377.8310</td>\n",
       "      <td>380.82</td>\n",
       "      <td>74330774</td>\n",
       "      <td>585048</td>\n",
       "      <td>380.961150</td>\n",
       "      <td>-0.004210</td>\n",
       "    </tr>\n",
       "    <tr>\n",
       "      <th>2023-01-04</th>\n",
       "      <td>98.17</td>\n",
       "      <td>98.25</td>\n",
       "      <td>97.8900</td>\n",
       "      <td>98.10</td>\n",
       "      <td>9792320</td>\n",
       "      <td>28896</td>\n",
       "      <td>98.032508</td>\n",
       "      <td>0.005535</td>\n",
       "      <td>383.18</td>\n",
       "      <td>385.88</td>\n",
       "      <td>380.0000</td>\n",
       "      <td>383.76</td>\n",
       "      <td>85425119</td>\n",
       "      <td>628498</td>\n",
       "      <td>383.151245</td>\n",
       "      <td>0.007720</td>\n",
       "    </tr>\n",
       "    <tr>\n",
       "      <th>2023-01-05</th>\n",
       "      <td>97.64</td>\n",
       "      <td>98.06</td>\n",
       "      <td>97.5650</td>\n",
       "      <td>98.02</td>\n",
       "      <td>9675668</td>\n",
       "      <td>25578</td>\n",
       "      <td>97.882382</td>\n",
       "      <td>-0.000815</td>\n",
       "      <td>381.72</td>\n",
       "      <td>381.76</td>\n",
       "      <td>378.7600</td>\n",
       "      <td>379.38</td>\n",
       "      <td>76079710</td>\n",
       "      <td>523811</td>\n",
       "      <td>380.264217</td>\n",
       "      <td>-0.011413</td>\n",
       "    </tr>\n",
       "    <tr>\n",
       "      <th>2023-01-06</th>\n",
       "      <td>98.13</td>\n",
       "      <td>99.15</td>\n",
       "      <td>98.0400</td>\n",
       "      <td>99.09</td>\n",
       "      <td>8484694</td>\n",
       "      <td>28134</td>\n",
       "      <td>98.849728</td>\n",
       "      <td>0.010916</td>\n",
       "      <td>382.61</td>\n",
       "      <td>389.25</td>\n",
       "      <td>379.4127</td>\n",
       "      <td>388.08</td>\n",
       "      <td>103741286</td>\n",
       "      <td>683816</td>\n",
       "      <td>385.248218</td>\n",
       "      <td>0.022932</td>\n",
       "    </tr>\n",
       "  </tbody>\n",
       "</table>\n",
       "</div>"
      ],
      "text/plain": [
       "              AGG                                                          \\\n",
       "             open   high      low  close    volume trade_count       vwap   \n",
       "2022-12-30  97.25  97.36  96.9741  96.99   8460107       29791  97.066805   \n",
       "2023-01-03  97.97  97.97  97.3650  97.56  19923745       50478  97.592200   \n",
       "2023-01-04  98.17  98.25  97.8900  98.10   9792320       28896  98.032508   \n",
       "2023-01-05  97.64  98.06  97.5650  98.02   9675668       25578  97.882382   \n",
       "2023-01-06  98.13  99.15  98.0400  99.09   8484694       28134  98.849728   \n",
       "\n",
       "                            SPY                                       \\\n",
       "           daily_return    open    high       low   close     volume   \n",
       "2022-12-30    -0.004720  380.64  382.58  378.4300  382.43   83474793   \n",
       "2023-01-03     0.005877  384.37  386.43  377.8310  380.82   74330774   \n",
       "2023-01-04     0.005535  383.18  385.88  380.0000  383.76   85425119   \n",
       "2023-01-05    -0.000815  381.72  381.76  378.7600  379.38   76079710   \n",
       "2023-01-06     0.010916  382.61  389.25  379.4127  388.08  103741286   \n",
       "\n",
       "                                                 \n",
       "           trade_count        vwap daily_return  \n",
       "2022-12-30      544591  381.220108    -0.002634  \n",
       "2023-01-03      585048  380.961150    -0.004210  \n",
       "2023-01-04      628498  383.151245     0.007720  \n",
       "2023-01-05      523811  380.264217    -0.011413  \n",
       "2023-01-06      683816  385.248218     0.022932  "
      ]
     },
     "execution_count": 72,
     "metadata": {},
     "output_type": "execute_result"
    }
   ],
   "source": [
    "# Configure a Monte Carlo simulation to forecast 10 years cumulative returns\n",
    "# The weights should be split 20% to AGG and 80% to SPY.\n",
    "# Run 500 samples.\n",
    "MC_TenYears=MCSimulation(portfolio_data=price_hist_df,\n",
    "                         weights=[.20,0.80],\n",
    "                         num_simulation=500,\n",
    "                         num_trading_days=252*10)\n",
    "\n",
    "# Review the simulation input data\n",
    "MC_TenYears.portfolio_data.head()\n",
    "MC_TenYears.portfolio_data.tail()"
   ]
  },
  {
   "cell_type": "code",
   "execution_count": 73,
   "metadata": {},
   "outputs": [
    {
     "name": "stdout",
     "output_type": "stream",
     "text": [
      "Running Monte Carlo simulation number 0.\n",
      "Running Monte Carlo simulation number 10.\n",
      "Running Monte Carlo simulation number 20.\n",
      "Running Monte Carlo simulation number 30.\n",
      "Running Monte Carlo simulation number 40.\n",
      "Running Monte Carlo simulation number 50.\n",
      "Running Monte Carlo simulation number 60.\n",
      "Running Monte Carlo simulation number 70.\n",
      "Running Monte Carlo simulation number 80.\n",
      "Running Monte Carlo simulation number 90.\n",
      "Running Monte Carlo simulation number 100.\n"
     ]
    },
    {
     "name": "stderr",
     "output_type": "stream",
     "text": [
      "C:\\Users\\kunal\\OneDrive\\FinTech Bootcamp\\FintechWorkSpace\\Python_Project\\Module5-Challenge\\MCForecastTools.py:117: PerformanceWarning: DataFrame is highly fragmented.  This is usually the result of calling `frame.insert` many times, which has poor performance.  Consider joining all columns at once using pd.concat(axis=1) instead.  To get a de-fragmented frame, use `newframe = frame.copy()`\n",
      "  portfolio_cumulative_returns[n] = (1 + sim_df.fillna(0)).cumprod()\n"
     ]
    },
    {
     "name": "stdout",
     "output_type": "stream",
     "text": [
      "Running Monte Carlo simulation number 110.\n",
      "Running Monte Carlo simulation number 120.\n",
      "Running Monte Carlo simulation number 130.\n",
      "Running Monte Carlo simulation number 140.\n",
      "Running Monte Carlo simulation number 150.\n",
      "Running Monte Carlo simulation number 160.\n",
      "Running Monte Carlo simulation number 170.\n",
      "Running Monte Carlo simulation number 180.\n",
      "Running Monte Carlo simulation number 190.\n",
      "Running Monte Carlo simulation number 200.\n",
      "Running Monte Carlo simulation number 210.\n",
      "Running Monte Carlo simulation number 220.\n",
      "Running Monte Carlo simulation number 230.\n",
      "Running Monte Carlo simulation number 240.\n",
      "Running Monte Carlo simulation number 250.\n",
      "Running Monte Carlo simulation number 260.\n",
      "Running Monte Carlo simulation number 270.\n",
      "Running Monte Carlo simulation number 280.\n",
      "Running Monte Carlo simulation number 290.\n",
      "Running Monte Carlo simulation number 300.\n",
      "Running Monte Carlo simulation number 310.\n",
      "Running Monte Carlo simulation number 320.\n",
      "Running Monte Carlo simulation number 330.\n",
      "Running Monte Carlo simulation number 340.\n",
      "Running Monte Carlo simulation number 350.\n",
      "Running Monte Carlo simulation number 360.\n",
      "Running Monte Carlo simulation number 370.\n",
      "Running Monte Carlo simulation number 380.\n",
      "Running Monte Carlo simulation number 390.\n",
      "Running Monte Carlo simulation number 400.\n",
      "Running Monte Carlo simulation number 410.\n",
      "Running Monte Carlo simulation number 420.\n",
      "Running Monte Carlo simulation number 430.\n",
      "Running Monte Carlo simulation number 440.\n",
      "Running Monte Carlo simulation number 450.\n",
      "Running Monte Carlo simulation number 460.\n",
      "Running Monte Carlo simulation number 470.\n",
      "Running Monte Carlo simulation number 480.\n",
      "Running Monte Carlo simulation number 490.\n"
     ]
    },
    {
     "data": {
      "text/html": [
       "<div>\n",
       "<style scoped>\n",
       "    .dataframe tbody tr th:only-of-type {\n",
       "        vertical-align: middle;\n",
       "    }\n",
       "\n",
       "    .dataframe tbody tr th {\n",
       "        vertical-align: top;\n",
       "    }\n",
       "\n",
       "    .dataframe thead th {\n",
       "        text-align: right;\n",
       "    }\n",
       "</style>\n",
       "<table border=\"1\" class=\"dataframe\">\n",
       "  <thead>\n",
       "    <tr style=\"text-align: right;\">\n",
       "      <th></th>\n",
       "      <th>0</th>\n",
       "      <th>1</th>\n",
       "      <th>2</th>\n",
       "      <th>3</th>\n",
       "      <th>4</th>\n",
       "      <th>5</th>\n",
       "      <th>6</th>\n",
       "      <th>7</th>\n",
       "      <th>8</th>\n",
       "      <th>9</th>\n",
       "      <th>...</th>\n",
       "      <th>490</th>\n",
       "      <th>491</th>\n",
       "      <th>492</th>\n",
       "      <th>493</th>\n",
       "      <th>494</th>\n",
       "      <th>495</th>\n",
       "      <th>496</th>\n",
       "      <th>497</th>\n",
       "      <th>498</th>\n",
       "      <th>499</th>\n",
       "    </tr>\n",
       "  </thead>\n",
       "  <tbody>\n",
       "    <tr>\n",
       "      <th>0</th>\n",
       "      <td>1.000000</td>\n",
       "      <td>1.000000</td>\n",
       "      <td>1.000000</td>\n",
       "      <td>1.000000</td>\n",
       "      <td>1.000000</td>\n",
       "      <td>1.000000</td>\n",
       "      <td>1.000000</td>\n",
       "      <td>1.000000</td>\n",
       "      <td>1.000000</td>\n",
       "      <td>1.000000</td>\n",
       "      <td>...</td>\n",
       "      <td>1.000000</td>\n",
       "      <td>1.000000</td>\n",
       "      <td>1.000000</td>\n",
       "      <td>1.000000</td>\n",
       "      <td>1.000000</td>\n",
       "      <td>1.000000</td>\n",
       "      <td>1.000000</td>\n",
       "      <td>1.000000</td>\n",
       "      <td>1.000000</td>\n",
       "      <td>1.000000</td>\n",
       "    </tr>\n",
       "    <tr>\n",
       "      <th>1</th>\n",
       "      <td>0.978211</td>\n",
       "      <td>1.016791</td>\n",
       "      <td>1.004991</td>\n",
       "      <td>1.026963</td>\n",
       "      <td>1.010336</td>\n",
       "      <td>1.006703</td>\n",
       "      <td>0.999984</td>\n",
       "      <td>1.009197</td>\n",
       "      <td>0.984153</td>\n",
       "      <td>1.028166</td>\n",
       "      <td>...</td>\n",
       "      <td>1.030544</td>\n",
       "      <td>1.015178</td>\n",
       "      <td>1.004625</td>\n",
       "      <td>0.999968</td>\n",
       "      <td>1.011833</td>\n",
       "      <td>1.006911</td>\n",
       "      <td>1.027393</td>\n",
       "      <td>1.001769</td>\n",
       "      <td>0.989579</td>\n",
       "      <td>0.966384</td>\n",
       "    </tr>\n",
       "    <tr>\n",
       "      <th>2</th>\n",
       "      <td>0.967852</td>\n",
       "      <td>0.997368</td>\n",
       "      <td>1.004477</td>\n",
       "      <td>1.032349</td>\n",
       "      <td>1.008317</td>\n",
       "      <td>0.990165</td>\n",
       "      <td>0.991911</td>\n",
       "      <td>1.014544</td>\n",
       "      <td>0.989517</td>\n",
       "      <td>1.008091</td>\n",
       "      <td>...</td>\n",
       "      <td>1.016990</td>\n",
       "      <td>1.016042</td>\n",
       "      <td>0.992829</td>\n",
       "      <td>1.013595</td>\n",
       "      <td>1.010993</td>\n",
       "      <td>1.008573</td>\n",
       "      <td>1.010479</td>\n",
       "      <td>1.026328</td>\n",
       "      <td>0.989793</td>\n",
       "      <td>0.961831</td>\n",
       "    </tr>\n",
       "    <tr>\n",
       "      <th>3</th>\n",
       "      <td>0.949475</td>\n",
       "      <td>1.013181</td>\n",
       "      <td>0.986177</td>\n",
       "      <td>1.036692</td>\n",
       "      <td>1.030041</td>\n",
       "      <td>0.998344</td>\n",
       "      <td>1.002746</td>\n",
       "      <td>1.033391</td>\n",
       "      <td>0.976386</td>\n",
       "      <td>0.994338</td>\n",
       "      <td>...</td>\n",
       "      <td>1.006426</td>\n",
       "      <td>1.011314</td>\n",
       "      <td>1.007097</td>\n",
       "      <td>1.002063</td>\n",
       "      <td>1.010045</td>\n",
       "      <td>1.022704</td>\n",
       "      <td>1.014716</td>\n",
       "      <td>1.027417</td>\n",
       "      <td>0.982552</td>\n",
       "      <td>0.960653</td>\n",
       "    </tr>\n",
       "    <tr>\n",
       "      <th>4</th>\n",
       "      <td>0.950374</td>\n",
       "      <td>1.022078</td>\n",
       "      <td>0.989408</td>\n",
       "      <td>1.028738</td>\n",
       "      <td>1.046312</td>\n",
       "      <td>0.981595</td>\n",
       "      <td>1.008561</td>\n",
       "      <td>1.047790</td>\n",
       "      <td>0.975611</td>\n",
       "      <td>0.990565</td>\n",
       "      <td>...</td>\n",
       "      <td>1.021769</td>\n",
       "      <td>1.016927</td>\n",
       "      <td>1.032542</td>\n",
       "      <td>1.011014</td>\n",
       "      <td>1.008540</td>\n",
       "      <td>1.030198</td>\n",
       "      <td>1.029925</td>\n",
       "      <td>1.040462</td>\n",
       "      <td>0.980927</td>\n",
       "      <td>0.963845</td>\n",
       "    </tr>\n",
       "    <tr>\n",
       "      <th>...</th>\n",
       "      <td>...</td>\n",
       "      <td>...</td>\n",
       "      <td>...</td>\n",
       "      <td>...</td>\n",
       "      <td>...</td>\n",
       "      <td>...</td>\n",
       "      <td>...</td>\n",
       "      <td>...</td>\n",
       "      <td>...</td>\n",
       "      <td>...</td>\n",
       "      <td>...</td>\n",
       "      <td>...</td>\n",
       "      <td>...</td>\n",
       "      <td>...</td>\n",
       "      <td>...</td>\n",
       "      <td>...</td>\n",
       "      <td>...</td>\n",
       "      <td>...</td>\n",
       "      <td>...</td>\n",
       "      <td>...</td>\n",
       "      <td>...</td>\n",
       "    </tr>\n",
       "    <tr>\n",
       "      <th>2516</th>\n",
       "      <td>0.861911</td>\n",
       "      <td>0.481882</td>\n",
       "      <td>5.640285</td>\n",
       "      <td>2.044034</td>\n",
       "      <td>0.502711</td>\n",
       "      <td>0.773039</td>\n",
       "      <td>2.431074</td>\n",
       "      <td>0.788939</td>\n",
       "      <td>1.312999</td>\n",
       "      <td>0.864933</td>\n",
       "      <td>...</td>\n",
       "      <td>0.762588</td>\n",
       "      <td>2.832848</td>\n",
       "      <td>1.876551</td>\n",
       "      <td>4.043561</td>\n",
       "      <td>0.747565</td>\n",
       "      <td>2.393878</td>\n",
       "      <td>1.447784</td>\n",
       "      <td>1.572223</td>\n",
       "      <td>3.867845</td>\n",
       "      <td>2.216811</td>\n",
       "    </tr>\n",
       "    <tr>\n",
       "      <th>2517</th>\n",
       "      <td>0.880653</td>\n",
       "      <td>0.492729</td>\n",
       "      <td>5.623842</td>\n",
       "      <td>2.017604</td>\n",
       "      <td>0.503679</td>\n",
       "      <td>0.781542</td>\n",
       "      <td>2.405764</td>\n",
       "      <td>0.805892</td>\n",
       "      <td>1.321329</td>\n",
       "      <td>0.862390</td>\n",
       "      <td>...</td>\n",
       "      <td>0.764553</td>\n",
       "      <td>2.851909</td>\n",
       "      <td>1.879998</td>\n",
       "      <td>4.031555</td>\n",
       "      <td>0.755464</td>\n",
       "      <td>2.455173</td>\n",
       "      <td>1.440714</td>\n",
       "      <td>1.550178</td>\n",
       "      <td>3.785354</td>\n",
       "      <td>2.232119</td>\n",
       "    </tr>\n",
       "    <tr>\n",
       "      <th>2518</th>\n",
       "      <td>0.885562</td>\n",
       "      <td>0.490066</td>\n",
       "      <td>5.671369</td>\n",
       "      <td>2.050375</td>\n",
       "      <td>0.513004</td>\n",
       "      <td>0.779761</td>\n",
       "      <td>2.394476</td>\n",
       "      <td>0.793939</td>\n",
       "      <td>1.284103</td>\n",
       "      <td>0.876853</td>\n",
       "      <td>...</td>\n",
       "      <td>0.773972</td>\n",
       "      <td>2.798004</td>\n",
       "      <td>1.917883</td>\n",
       "      <td>4.025866</td>\n",
       "      <td>0.747547</td>\n",
       "      <td>2.469576</td>\n",
       "      <td>1.444359</td>\n",
       "      <td>1.553480</td>\n",
       "      <td>3.782968</td>\n",
       "      <td>2.255195</td>\n",
       "    </tr>\n",
       "    <tr>\n",
       "      <th>2519</th>\n",
       "      <td>0.863730</td>\n",
       "      <td>0.506819</td>\n",
       "      <td>5.743185</td>\n",
       "      <td>2.050641</td>\n",
       "      <td>0.523082</td>\n",
       "      <td>0.782796</td>\n",
       "      <td>2.378356</td>\n",
       "      <td>0.781276</td>\n",
       "      <td>1.268597</td>\n",
       "      <td>0.865954</td>\n",
       "      <td>...</td>\n",
       "      <td>0.773423</td>\n",
       "      <td>2.767635</td>\n",
       "      <td>1.916673</td>\n",
       "      <td>3.988017</td>\n",
       "      <td>0.758843</td>\n",
       "      <td>2.480419</td>\n",
       "      <td>1.424800</td>\n",
       "      <td>1.556560</td>\n",
       "      <td>3.901961</td>\n",
       "      <td>2.228790</td>\n",
       "    </tr>\n",
       "    <tr>\n",
       "      <th>2520</th>\n",
       "      <td>0.858216</td>\n",
       "      <td>0.506933</td>\n",
       "      <td>5.665564</td>\n",
       "      <td>2.082711</td>\n",
       "      <td>0.541238</td>\n",
       "      <td>0.781348</td>\n",
       "      <td>2.392317</td>\n",
       "      <td>0.768762</td>\n",
       "      <td>1.291018</td>\n",
       "      <td>0.855991</td>\n",
       "      <td>...</td>\n",
       "      <td>0.779229</td>\n",
       "      <td>2.811888</td>\n",
       "      <td>1.950754</td>\n",
       "      <td>4.009613</td>\n",
       "      <td>0.762250</td>\n",
       "      <td>2.523972</td>\n",
       "      <td>1.408627</td>\n",
       "      <td>1.576026</td>\n",
       "      <td>3.902702</td>\n",
       "      <td>2.204842</td>\n",
       "    </tr>\n",
       "  </tbody>\n",
       "</table>\n",
       "<p>2521 rows × 500 columns</p>\n",
       "</div>"
      ],
      "text/plain": [
       "           0         1         2         3         4         5         6    \\\n",
       "0     1.000000  1.000000  1.000000  1.000000  1.000000  1.000000  1.000000   \n",
       "1     0.978211  1.016791  1.004991  1.026963  1.010336  1.006703  0.999984   \n",
       "2     0.967852  0.997368  1.004477  1.032349  1.008317  0.990165  0.991911   \n",
       "3     0.949475  1.013181  0.986177  1.036692  1.030041  0.998344  1.002746   \n",
       "4     0.950374  1.022078  0.989408  1.028738  1.046312  0.981595  1.008561   \n",
       "...        ...       ...       ...       ...       ...       ...       ...   \n",
       "2516  0.861911  0.481882  5.640285  2.044034  0.502711  0.773039  2.431074   \n",
       "2517  0.880653  0.492729  5.623842  2.017604  0.503679  0.781542  2.405764   \n",
       "2518  0.885562  0.490066  5.671369  2.050375  0.513004  0.779761  2.394476   \n",
       "2519  0.863730  0.506819  5.743185  2.050641  0.523082  0.782796  2.378356   \n",
       "2520  0.858216  0.506933  5.665564  2.082711  0.541238  0.781348  2.392317   \n",
       "\n",
       "           7         8         9    ...       490       491       492  \\\n",
       "0     1.000000  1.000000  1.000000  ...  1.000000  1.000000  1.000000   \n",
       "1     1.009197  0.984153  1.028166  ...  1.030544  1.015178  1.004625   \n",
       "2     1.014544  0.989517  1.008091  ...  1.016990  1.016042  0.992829   \n",
       "3     1.033391  0.976386  0.994338  ...  1.006426  1.011314  1.007097   \n",
       "4     1.047790  0.975611  0.990565  ...  1.021769  1.016927  1.032542   \n",
       "...        ...       ...       ...  ...       ...       ...       ...   \n",
       "2516  0.788939  1.312999  0.864933  ...  0.762588  2.832848  1.876551   \n",
       "2517  0.805892  1.321329  0.862390  ...  0.764553  2.851909  1.879998   \n",
       "2518  0.793939  1.284103  0.876853  ...  0.773972  2.798004  1.917883   \n",
       "2519  0.781276  1.268597  0.865954  ...  0.773423  2.767635  1.916673   \n",
       "2520  0.768762  1.291018  0.855991  ...  0.779229  2.811888  1.950754   \n",
       "\n",
       "           493       494       495       496       497       498       499  \n",
       "0     1.000000  1.000000  1.000000  1.000000  1.000000  1.000000  1.000000  \n",
       "1     0.999968  1.011833  1.006911  1.027393  1.001769  0.989579  0.966384  \n",
       "2     1.013595  1.010993  1.008573  1.010479  1.026328  0.989793  0.961831  \n",
       "3     1.002063  1.010045  1.022704  1.014716  1.027417  0.982552  0.960653  \n",
       "4     1.011014  1.008540  1.030198  1.029925  1.040462  0.980927  0.963845  \n",
       "...        ...       ...       ...       ...       ...       ...       ...  \n",
       "2516  4.043561  0.747565  2.393878  1.447784  1.572223  3.867845  2.216811  \n",
       "2517  4.031555  0.755464  2.455173  1.440714  1.550178  3.785354  2.232119  \n",
       "2518  4.025866  0.747547  2.469576  1.444359  1.553480  3.782968  2.255195  \n",
       "2519  3.988017  0.758843  2.480419  1.424800  1.556560  3.901961  2.228790  \n",
       "2520  4.009613  0.762250  2.523972  1.408627  1.576026  3.902702  2.204842  \n",
       "\n",
       "[2521 rows x 500 columns]"
      ]
     },
     "execution_count": 73,
     "metadata": {},
     "output_type": "execute_result"
    }
   ],
   "source": [
    "# Run the Monte Carlo simulation to forecast 10 years cumulative returns\n",
    "MC_TenYears.calc_cumulative_return()"
   ]
  },
  {
   "cell_type": "code",
   "execution_count": 74,
   "metadata": {},
   "outputs": [
    {
     "data": {
      "image/png": "[encoded data removed]",
      "text/plain": [
       "<Figure size 640x480 with 1 Axes>"
      ]
     },
     "metadata": {},
     "output_type": "display_data"
    }
   ],
   "source": [
    "# Visualize the 10-year Monte Carlo simulation by creating an\n",
    "# overlay line plot\n",
    "MC_TenYears_simulation_plot=MC_TenYears.plot_simulation()\n",
    "\n",
    "MC_TenYears_simulation_plot.get_figure().savefig('Simulation_Plot_10_Years_AGG20_SPY80.png',bbox_inches='tight')"
   ]
  },
  {
   "cell_type": "code",
   "execution_count": 77,
   "metadata": {},
   "outputs": [
    {
     "data": {
      "image/png": "[encoded data removed]",
      "text/plain": [
       "<Figure size 640x480 with 1 Axes>"
      ]
     },
     "metadata": {},
     "output_type": "display_data"
    }
   ],
   "source": [
    "# Visualize the probability distribution of the 10-year Monte Carlo simulation \n",
    "# by plotting a histogram\n",
    "MC_TenYears_distribution_plot=MC_TenYears.plot_distribution()\n",
    "\n",
    "MC_TenYears_distribution_plot.get_figure().savefig('Distribution_plot_10_Years_AGG20_SPY80.png',bbox_inches='tight')"
   ]
  },
  {
   "cell_type": "code",
   "execution_count": 79,
   "metadata": {},
   "outputs": [
    {
     "name": "stdout",
     "output_type": "stream",
     "text": [
      "count           500.000000\n",
      "mean              1.872394\n",
      "std               1.274491\n",
      "min               0.250414\n",
      "25%               1.009730\n",
      "50%               1.562999\n",
      "75%               2.332096\n",
      "max               9.935310\n",
      "95% CI Lower      0.472828\n",
      "95% CI Upper      5.192490\n",
      "Name: 2520, dtype: float64\n"
     ]
    }
   ],
   "source": [
    "# Generate summary statistics from the 10-year Monte Carlo simulation results\n",
    "# Save the results as a variable\n",
    "MC_TenYears_dist_table=MC_TenYears.summarize_cumulative_return()\n",
    "\n",
    "\n",
    "# Review the 10-year Monte Carlo summary statistics\n",
    "print(MC_TenYears_dist_table)"
   ]
  },
  {
   "cell_type": "markdown",
   "metadata": {},
   "source": [
    "### Answer the following questions:"
   ]
  },
  {
   "cell_type": "markdown",
   "metadata": {},
   "source": [
    "#### Question: Using the current value of only the stock and bond portion of the member's portfolio and the summary statistics that you generated from the new Monte Carlo simulation, what are the lower and upper bounds for the expected value of the portfolio (with the new weights) with a 95% confidence interval?"
   ]
  },
  {
   "cell_type": "code",
   "execution_count": 87,
   "metadata": {},
   "outputs": [
    {
     "data": {
      "text/plain": [
       "62506.799999999996"
      ]
     },
     "execution_count": 87,
     "metadata": {},
     "output_type": "execute_result"
    }
   ],
   "source": [
    "# Print the current balance of the stock and bond portion of the members portfolio\n",
    "savings_df.loc['stock/bond','amount']\n"
   ]
  },
  {
   "cell_type": "code",
   "execution_count": 89,
   "metadata": {},
   "outputs": [
    {
     "name": "stdout",
     "output_type": "stream",
     "text": [
      "The expected value of current stock/bond holdings in 10 years with a 95% confidence interval is between\n",
      "$29554.94 and $324565.94\n"
     ]
    }
   ],
   "source": [
    "# Use the lower and upper `95%` confidence intervals to calculate the range of the possible outcomes for the current stock/bond portfolio\n",
    "ci_lower_ten_cumulative_return = MC_TenYears_dist_table[8]*savings_df.loc['stock/bond','amount']\n",
    "ci_upper_ten_cumulative_return = MC_TenYears_dist_table[9]*savings_df.loc['stock/bond','amount']\n",
    "\n",
    "# Print the result of your calculations\n",
    "print(f'The expected value of current stock/bond holdings in 10 years with a 95% confidence interval is between')\n",
    "print(f'${ci_lower_ten_cumulative_return :.2f} and ${ci_upper_ten_cumulative_return :.2f}')"
   ]
  },
  {
   "cell_type": "markdown",
   "metadata": {},
   "source": [
    "#### Question: Will weighting the portfolio more heavily to stocks allow the credit union members to retire after only 10 years?"
   ]
  },
  {
   "cell_type": "markdown",
   "metadata": {},
   "source": [
    "**Answer:** \n",
    "As per the simulation results the expected value of the portfolio even when weighted heavily on stocks is lower in 10 years that over 30 years and is unlikely to allow the union member to retire after 10 years."
   ]
  },
  {
   "cell_type": "code",
   "execution_count": null,
   "metadata": {},
   "outputs": [],
   "source": []
  }
 ],
 "metadata": {
  "kernelspec": {
   "display_name": "Python 3 (ipykernel)",
   "language": "python",
   "name": "python3"
  },
  "language_info": {
   "codemirror_mode": {
    "name": "ipython",
    "version": 3
   },
   "file_extension": ".py",
   "mimetype": "text/x-python",
   "name": "python",
   "nbconvert_exporter": "python",
   "pygments_lexer": "ipython3",
   "version": "3.7.15"
  }
 },
 "nbformat": 4,
 "nbformat_minor": 4
}
